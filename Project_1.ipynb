{
 "cells": [
  {
   "cell_type": "markdown",
   "id": "4aeaa953",
   "metadata": {},
   "source": [
    "## Project 1: Movie Ratings!"
   ]
  },
  {
   "cell_type": "markdown",
   "id": "1782748d-2c07-4a63-9a99-2638a25d72f8",
   "metadata": {},
   "source": [
    "Importing libraries"
   ]
  },
  {
   "cell_type": "code",
   "execution_count": null,
   "id": "139480a5-83dd-43e8-89f4-757a9bcba966",
   "metadata": {},
   "outputs": [],
   "source": []
  },
  {
   "cell_type": "code",
   "execution_count": 1,
   "id": "7f658387-35eb-4d6e-bacb-07eb63085853",
   "metadata": {},
   "outputs": [],
   "source": [
    "import pandas as pd\n",
    "import csv"
   ]
  },
  {
   "cell_type": "code",
   "execution_count": null,
   "id": "8f9be60d",
   "metadata": {},
   "outputs": [],
   "source": [
    "import plotly.io as pio\n",
    "\n",
    "pio.renderers.default = \"vscode+jupyterlab+notebook_connected\""
   ]
  },
  {
   "cell_type": "markdown",
   "id": "ef5679ff-fbae-4f33-aa93-0f388a9ba76b",
   "metadata": {},
   "source": [
    "Data is from IMDb database: https://datasets.imdbws.com/\n",
    "\n",
    "It contains average ratings for all movies on IMDb with the number of ratings."
   ]
  },
  {
   "cell_type": "code",
   "execution_count": 6,
   "id": "d601a880-1e07-42c2-bda3-a7fec1df38fd",
   "metadata": {},
   "outputs": [
    {
     "name": "stdout",
     "output_type": "stream",
     "text": [
      "      tconst  averageRating  numVotes\n",
      "0  tt0000001            5.7      2096\n",
      "1  tt0000002            5.6       282\n",
      "2  tt0000003            6.5      2112\n",
      "3  tt0000004            5.4       182\n",
      "4  tt0000005            6.2      2844\n"
     ]
    }
   ],
   "source": [
    "ratings = pd.read_csv('title.ratings.tsv', delimiter = '\\t')\n",
    "print(ratings.head())"
   ]
  },
  {
   "cell_type": "code",
   "execution_count": 7,
   "id": "88fb57a9-e15c-4367-98ba-8a1c2fc48a77",
   "metadata": {},
   "outputs": [
    {
     "data": {
      "text/plain": [
       "1493770"
      ]
     },
     "execution_count": 7,
     "metadata": {},
     "output_type": "execute_result"
    }
   ],
   "source": [
    "#verifying it is long enough\n",
    "len(ratings)"
   ]
  },
  {
   "cell_type": "markdown",
   "id": "ecd5e5f1-9772-40dc-9f4f-070ae05c1894",
   "metadata": {},
   "source": [
    "Mean, median, and mode using Pandas"
   ]
  },
  {
   "cell_type": "code",
   "execution_count": 9,
   "id": "a37c204d-7e3d-47a2-8861-96c36a61727e",
   "metadata": {},
   "outputs": [
    {
     "name": "stdout",
     "output_type": "stream",
     "text": [
      "mean : 6.96\n",
      "median:  7.2\n",
      "mode:  0    7.2\n",
      "Name: averageRating, dtype: float64\n"
     ]
    }
   ],
   "source": [
    "mean_averageRating = ratings['averageRating'].mean()\n",
    "print('mean :', round(mean_averageRating, 2))\n",
    "\n",
    "median_averageRating = ratings['averageRating'].median()\n",
    "print('median: ', median_averageRating)\n",
    "\n",
    "#mode saves it as a dataframe, 0 is index and 7.2 is mode\n",
    "mode_averageRating = ratings['averageRating'].mode()\n",
    "print('mode: ', mode_averageRating)"
   ]
  },
  {
   "cell_type": "markdown",
   "id": "5af2b577-de37-45c8-abff-3580fbf85fab",
   "metadata": {},
   "source": [
    "Mean, median, and mode using base Python\n",
    "\n",
    "First we read in data & make list of selected column"
   ]
  },
  {
   "cell_type": "code",
   "execution_count": 30,
   "id": "f4faedcf-488d-4bbc-82a5-5f8c3fd4d1d0",
   "metadata": {},
   "outputs": [
    {
     "name": "stdout",
     "output_type": "stream",
     "text": [
      "col names:  ['tconst', 'averageRating', 'numVotes']\n",
      "1493770\n"
     ]
    },
    {
     "data": {
      "text/plain": [
       "[5.7, 5.6, 6.5, 5.4, 6.2]"
      ]
     },
     "execution_count": 30,
     "metadata": {},
     "output_type": "execute_result"
    }
   ],
   "source": [
    "#Inspecting data; fieldnames returns a list of the top row\n",
    "with open('title.ratings.tsv', 'r') as tsvfile:\n",
    "    read = csv.DictReader(tsvfile, delimiter = '\\t')\n",
    "    head = read.fieldnames\n",
    "    print('col names: ', head)\n",
    "\n",
    "#create list of desired column using list comprehension\n",
    "with open('title.ratings.tsv', 'r') as tsvfile:\n",
    "    read = csv.DictReader(tsvfile, delimiter = '\\t')\n",
    "    avgrating = [float(row['averageRating']) for row in read]\n",
    "\n",
    "#validation; compare list to averageRatings above\n",
    "print(len(avgrating))\n",
    "avgrating[0:5] #averageRatings is list, not series"
   ]
  },
  {
   "cell_type": "markdown",
   "id": "8a96fa82-46b2-49f2-a6cc-b9a8c04ed5e0",
   "metadata": {},
   "source": [
    "Now we can get the summary stats"
   ]
  },
  {
   "cell_type": "code",
   "execution_count": null,
   "id": "9cc6cff8-330c-411e-9e1d-15ef0aa4dec1",
   "metadata": {},
   "outputs": [],
   "source": [
    "#sum the list to get total, then divide by # of ratings \n",
    "total = sum(avgrating)\n",
    "n = len(avgrating)\n",
    "print('average ratings: ', round(total/n, 2))\n",
    "\n",
    "\n",
    "#as per instructions, used dictionary for mode\n",
    "counter = {}\n",
    "for rating in avgrating:\n",
    "    if rating in counter:\n",
    "        counter[rating] += 1 #counts when value matches key \n",
    "    else:\n",
    "        counter[rating] = 1 #adds rating as new key if not matched\n",
    "\n",
    "mode = max(counter, key=counter.get)\n",
    "print('mode: ', most_common)\n",
    "\n",
    "#median is middle value of ordered list\n",
    "sorted_rating = sorted(avgrating)\n",
    "\n",
    "#Integer division to get whole # for list index\n",
    "mid_1 = sorted_rating[n//2 - 1]\n",
    "mid_2 = sorted_rating[n//2]\n",
    "\n",
    "#Note: median of an even number list = avg of two middle elements\n",
    "print('median: ', (mid_1 + mid_2)/2)\n"
   ]
  },
  {
   "cell_type": "markdown",
   "id": "fa3c9a0a-bcb7-49d9-9468-334ecaf14cdc",
   "metadata": {},
   "source": [
    "Data visualization will show the distribution of ratings from 1 to 10"
   ]
  },
  {
   "cell_type": "code",
   "execution_count": 52,
   "id": "2a3f37e3-f0dd-45f4-810b-c74140d290ce",
   "metadata": {},
   "outputs": [
    {
     "name": "stdout",
     "output_type": "stream",
     "text": [
      "Rating Sparkline:\n",
      "Each * represents 3000 reviews\n",
      "1: *\n",
      "2: ***\n",
      "3: ******\n",
      "4: *******************\n",
      "5: *************************************\n",
      "6: *************************************************************************************************\n",
      "7: ******************************************************************************************************************************************\n",
      "8: *****************************************************************************************************************************************************\n",
      "9: ****************************************\n",
      "10: ********\n"
     ]
    }
   ],
   "source": [
    "'''\n",
    "avgrating will be rounded to integers \n",
    "dictionary will be used to count them\n",
    "visualization will use a sparkline\n",
    "note: scaling for viz is a little wonky. Some ratings had over 30k, while others had 3k\n",
    "'''\n",
    "\n",
    "#initializing dictionary w/ integer keys\n",
    "rating_count = {1:0, 2:0, 3:0, 4:0, 5:0, 6:0, 7:0, 8:0, 9:0, 10:0}\n",
    "\n",
    "#iterates through avgrating to round to nearest integer\n",
    "#Note: uses banker's rounding (rounds to nearest even integer)\n",
    "rounded_avgrating = [round(rating) for rating in avgrating]\n",
    "\n",
    "#matches each rating to the key in dictionary\n",
    "#increases count by 1 for match\n",
    "for rating in rounded_avgrating:\n",
    "    if rating in rating_count:\n",
    "        rating_count[rating] += 1\n",
    "\n",
    "\n",
    "print('Rating Sparkline:')\n",
    "print('Each * represents 3000 reviews')\n",
    "\n",
    "#uses tuple to count values and matches key in for loop\n",
    "for rating, count in rating_count.items():\n",
    "    line = round(count/3000) #scales bar length down; returns integer\n",
    "    print(f'{rating}: {'*' * line}') #string multiplication generates 'bars'\n",
    "\n"
   ]
  }
 ],
 "metadata": {
  "kernelspec": {
   "display_name": "base",
   "language": "python",
   "name": "python3"
  },
  "language_info": {
   "codemirror_mode": {
    "name": "ipython",
    "version": 3
   },
   "file_extension": ".py",
   "mimetype": "text/x-python",
   "name": "python",
   "nbconvert_exporter": "python",
   "pygments_lexer": "ipython3",
   "version": "3.12.3"
  }
 },
 "nbformat": 4,
 "nbformat_minor": 5
}
