{
 "cells": [
  {
   "cell_type": "markdown",
   "id": "6f43d5c1-8e85-44f8-81af-bf84fce77a72",
   "metadata": {},
   "source": [
    "# Project 2: Corn production over time vs. infant mortality in Ireland\n",
    "\n",
    "# *It's Corn!*\n",
    "\n",
    "Data sources: \n",
    "\n",
    "https://data.ers.usda.gov/FEED-GRAINS-custom-query.aspx#ResultsPanel - Annual corn production in the USA, all years, unit = million bushels\n",
    "\n",
    "https://www.mortality.org/Country/Country?cntr=IRL - Ireland, Deaths (period 1x1)\n",
    "\n",
    "*Side note: I think it's hilarious that the USA has corn data that goes back to 1866. Unfortunately I had a hard time finding other data that went back that far*"
   ]
  },
  {
   "cell_type": "code",
   "execution_count": 2,
   "id": "1a5b6768-fedf-4b94-8c10-accd6a9ef4db",
   "metadata": {},
   "outputs": [],
   "source": [
    "import pandas as pd\n"
   ]
  },
  {
   "cell_type": "code",
   "execution_count": 3,
   "id": "f7b14acc",
   "metadata": {},
   "outputs": [],
   "source": [
    "import plotly.io as pio\n",
    "\n",
    "pio.renderers.default = \"vscode+jupyterlab+notebook_connected\""
   ]
  },
  {
   "cell_type": "code",
   "execution_count": 4,
   "id": "f665f0bf-6a74-440e-8687-c8cd8b748cff",
   "metadata": {},
   "outputs": [
    {
     "data": {
      "text/html": [
       "<div>\n",
       "<style scoped>\n",
       "    .dataframe tbody tr th:only-of-type {\n",
       "        vertical-align: middle;\n",
       "    }\n",
       "\n",
       "    .dataframe tbody tr th {\n",
       "        vertical-align: top;\n",
       "    }\n",
       "\n",
       "    .dataframe thead th {\n",
       "        text-align: right;\n",
       "    }\n",
       "</style>\n",
       "<table border=\"1\" class=\"dataframe\">\n",
       "  <thead>\n",
       "    <tr style=\"text-align: right;\">\n",
       "      <th></th>\n",
       "      <th>Year</th>\n",
       "      <th>Frequency</th>\n",
       "      <th>Attribute</th>\n",
       "      <th>Commodity</th>\n",
       "      <th>Geography</th>\n",
       "      <th>Unit</th>\n",
       "      <th>Amount</th>\n",
       "    </tr>\n",
       "  </thead>\n",
       "  <tbody>\n",
       "    <tr>\n",
       "      <th>0</th>\n",
       "      <td>1866</td>\n",
       "      <td>Commodity Market Year</td>\n",
       "      <td>Production</td>\n",
       "      <td>Corn</td>\n",
       "      <td>United States</td>\n",
       "      <td>Million bushels</td>\n",
       "      <td>730.814</td>\n",
       "    </tr>\n",
       "    <tr>\n",
       "      <th>1</th>\n",
       "      <td>1867</td>\n",
       "      <td>Commodity Market Year</td>\n",
       "      <td>Production</td>\n",
       "      <td>Corn</td>\n",
       "      <td>United States</td>\n",
       "      <td>Million bushels</td>\n",
       "      <td>793.905</td>\n",
       "    </tr>\n",
       "    <tr>\n",
       "      <th>2</th>\n",
       "      <td>1868</td>\n",
       "      <td>Commodity Market Year</td>\n",
       "      <td>Production</td>\n",
       "      <td>Corn</td>\n",
       "      <td>United States</td>\n",
       "      <td>Million bushels</td>\n",
       "      <td>919.590</td>\n",
       "    </tr>\n",
       "    <tr>\n",
       "      <th>3</th>\n",
       "      <td>1869</td>\n",
       "      <td>Commodity Market Year</td>\n",
       "      <td>Production</td>\n",
       "      <td>Corn</td>\n",
       "      <td>United States</td>\n",
       "      <td>Million bushels</td>\n",
       "      <td>782.084</td>\n",
       "    </tr>\n",
       "    <tr>\n",
       "      <th>4</th>\n",
       "      <td>1870</td>\n",
       "      <td>Commodity Market Year</td>\n",
       "      <td>Production</td>\n",
       "      <td>Corn</td>\n",
       "      <td>United States</td>\n",
       "      <td>Million bushels</td>\n",
       "      <td>1124.775</td>\n",
       "    </tr>\n",
       "    <tr>\n",
       "      <th>...</th>\n",
       "      <td>...</td>\n",
       "      <td>...</td>\n",
       "      <td>...</td>\n",
       "      <td>...</td>\n",
       "      <td>...</td>\n",
       "      <td>...</td>\n",
       "      <td>...</td>\n",
       "    </tr>\n",
       "    <tr>\n",
       "      <th>154</th>\n",
       "      <td>2020</td>\n",
       "      <td>Commodity Market Year</td>\n",
       "      <td>Production</td>\n",
       "      <td>Corn</td>\n",
       "      <td>United States</td>\n",
       "      <td>Million bushels</td>\n",
       "      <td>14086.699</td>\n",
       "    </tr>\n",
       "    <tr>\n",
       "      <th>155</th>\n",
       "      <td>2021</td>\n",
       "      <td>Commodity Market Year</td>\n",
       "      <td>Production</td>\n",
       "      <td>Corn</td>\n",
       "      <td>United States</td>\n",
       "      <td>Million bushels</td>\n",
       "      <td>15017.788</td>\n",
       "    </tr>\n",
       "    <tr>\n",
       "      <th>156</th>\n",
       "      <td>2022</td>\n",
       "      <td>Commodity Market Year</td>\n",
       "      <td>Production</td>\n",
       "      <td>Corn</td>\n",
       "      <td>United States</td>\n",
       "      <td>Million bushels</td>\n",
       "      <td>13650.531</td>\n",
       "    </tr>\n",
       "    <tr>\n",
       "      <th>157</th>\n",
       "      <td>2023</td>\n",
       "      <td>Commodity Market Year</td>\n",
       "      <td>Production</td>\n",
       "      <td>Corn</td>\n",
       "      <td>United States</td>\n",
       "      <td>Million bushels</td>\n",
       "      <td>15340.520</td>\n",
       "    </tr>\n",
       "    <tr>\n",
       "      <th>158</th>\n",
       "      <td>2024</td>\n",
       "      <td>Commodity Market Year</td>\n",
       "      <td>Production</td>\n",
       "      <td>Corn</td>\n",
       "      <td>United States</td>\n",
       "      <td>Million bushels</td>\n",
       "      <td>15142.749</td>\n",
       "    </tr>\n",
       "  </tbody>\n",
       "</table>\n",
       "<p>159 rows × 7 columns</p>\n",
       "</div>"
      ],
      "text/plain": [
       "     Year              Frequency   Attribute Commodity      Geography  \\\n",
       "0    1866  Commodity Market Year  Production      Corn  United States   \n",
       "1    1867  Commodity Market Year  Production      Corn  United States   \n",
       "2    1868  Commodity Market Year  Production      Corn  United States   \n",
       "3    1869  Commodity Market Year  Production      Corn  United States   \n",
       "4    1870  Commodity Market Year  Production      Corn  United States   \n",
       "..    ...                    ...         ...       ...            ...   \n",
       "154  2020  Commodity Market Year  Production      Corn  United States   \n",
       "155  2021  Commodity Market Year  Production      Corn  United States   \n",
       "156  2022  Commodity Market Year  Production      Corn  United States   \n",
       "157  2023  Commodity Market Year  Production      Corn  United States   \n",
       "158  2024  Commodity Market Year  Production      Corn  United States   \n",
       "\n",
       "                Unit     Amount  \n",
       "0    Million bushels    730.814  \n",
       "1    Million bushels    793.905  \n",
       "2    Million bushels    919.590  \n",
       "3    Million bushels    782.084  \n",
       "4    Million bushels   1124.775  \n",
       "..               ...        ...  \n",
       "154  Million bushels  14086.699  \n",
       "155  Million bushels  15017.788  \n",
       "156  Million bushels  13650.531  \n",
       "157  Million bushels  15340.520  \n",
       "158  Million bushels  15142.749  \n",
       "\n",
       "[159 rows x 7 columns]"
      ]
     },
     "execution_count": 4,
     "metadata": {},
     "output_type": "execute_result"
    }
   ],
   "source": [
    "corn = pd.read_csv('corn.csv', skiprows = 1)\n",
    "\n",
    "#Initial data is already formatted as a table\n",
    "corn"
   ]
  },
  {
   "cell_type": "markdown",
   "id": "879fc338-6f54-4939-8d94-c5a9cc6fb9d9",
   "metadata": {},
   "source": [
    "For our analysis, we will drop all columns and rename the amount column to reflect the unit of measurement\n",
    "Also, the index will be set to the years column"
   ]
  },
  {
   "cell_type": "code",
   "execution_count": 5,
   "id": "fd597760-4584-44bc-a906-3cf7595835dc",
   "metadata": {
    "scrolled": true
   },
   "outputs": [
    {
     "data": {
      "text/html": [
       "<div>\n",
       "<style scoped>\n",
       "    .dataframe tbody tr th:only-of-type {\n",
       "        vertical-align: middle;\n",
       "    }\n",
       "\n",
       "    .dataframe tbody tr th {\n",
       "        vertical-align: top;\n",
       "    }\n",
       "\n",
       "    .dataframe thead th {\n",
       "        text-align: right;\n",
       "    }\n",
       "</style>\n",
       "<table border=\"1\" class=\"dataframe\">\n",
       "  <thead>\n",
       "    <tr style=\"text-align: right;\">\n",
       "      <th></th>\n",
       "      <th>Year</th>\n",
       "      <th>Amount</th>\n",
       "    </tr>\n",
       "  </thead>\n",
       "  <tbody>\n",
       "    <tr>\n",
       "      <th>0</th>\n",
       "      <td>1866</td>\n",
       "      <td>730.814</td>\n",
       "    </tr>\n",
       "    <tr>\n",
       "      <th>1</th>\n",
       "      <td>1867</td>\n",
       "      <td>793.905</td>\n",
       "    </tr>\n",
       "    <tr>\n",
       "      <th>2</th>\n",
       "      <td>1868</td>\n",
       "      <td>919.590</td>\n",
       "    </tr>\n",
       "    <tr>\n",
       "      <th>3</th>\n",
       "      <td>1869</td>\n",
       "      <td>782.084</td>\n",
       "    </tr>\n",
       "    <tr>\n",
       "      <th>4</th>\n",
       "      <td>1870</td>\n",
       "      <td>1124.775</td>\n",
       "    </tr>\n",
       "    <tr>\n",
       "      <th>...</th>\n",
       "      <td>...</td>\n",
       "      <td>...</td>\n",
       "    </tr>\n",
       "    <tr>\n",
       "      <th>154</th>\n",
       "      <td>2020</td>\n",
       "      <td>14086.699</td>\n",
       "    </tr>\n",
       "    <tr>\n",
       "      <th>155</th>\n",
       "      <td>2021</td>\n",
       "      <td>15017.788</td>\n",
       "    </tr>\n",
       "    <tr>\n",
       "      <th>156</th>\n",
       "      <td>2022</td>\n",
       "      <td>13650.531</td>\n",
       "    </tr>\n",
       "    <tr>\n",
       "      <th>157</th>\n",
       "      <td>2023</td>\n",
       "      <td>15340.520</td>\n",
       "    </tr>\n",
       "    <tr>\n",
       "      <th>158</th>\n",
       "      <td>2024</td>\n",
       "      <td>15142.749</td>\n",
       "    </tr>\n",
       "  </tbody>\n",
       "</table>\n",
       "<p>159 rows × 2 columns</p>\n",
       "</div>"
      ],
      "text/plain": [
       "     Year     Amount\n",
       "0    1866    730.814\n",
       "1    1867    793.905\n",
       "2    1868    919.590\n",
       "3    1869    782.084\n",
       "4    1870   1124.775\n",
       "..    ...        ...\n",
       "154  2020  14086.699\n",
       "155  2021  15017.788\n",
       "156  2022  13650.531\n",
       "157  2023  15340.520\n",
       "158  2024  15142.749\n",
       "\n",
       "[159 rows x 2 columns]"
      ]
     },
     "execution_count": 5,
     "metadata": {},
     "output_type": "execute_result"
    }
   ],
   "source": [
    "#Dropping extraneous cols\n",
    "corn = corn.drop(columns = ['Frequency', 'Attribute', 'Commodity', 'Geography', 'Unit'])\n",
    "corn"
   ]
  },
  {
   "cell_type": "code",
   "execution_count": 6,
   "id": "0d1a0d0d-4a24-4c9a-bcc6-7e65c12b8e56",
   "metadata": {},
   "outputs": [],
   "source": [
    "# Renaming col & changing index to year\n",
    "corn.rename(columns={\"Amount\": \"Mil_Bushels_Corn\"}, inplace = True)\n",
    "corn.set_index('Year', inplace = True)"
   ]
  },
  {
   "cell_type": "code",
   "execution_count": 7,
   "id": "7d169df7-464b-4812-a045-b3533e033dfd",
   "metadata": {},
   "outputs": [
    {
     "data": {
      "text/html": [
       "<div>\n",
       "<style scoped>\n",
       "    .dataframe tbody tr th:only-of-type {\n",
       "        vertical-align: middle;\n",
       "    }\n",
       "\n",
       "    .dataframe tbody tr th {\n",
       "        vertical-align: top;\n",
       "    }\n",
       "\n",
       "    .dataframe thead th {\n",
       "        text-align: right;\n",
       "    }\n",
       "</style>\n",
       "<table border=\"1\" class=\"dataframe\">\n",
       "  <thead>\n",
       "    <tr style=\"text-align: right;\">\n",
       "      <th></th>\n",
       "      <th>Mil_Bushels_Corn</th>\n",
       "    </tr>\n",
       "    <tr>\n",
       "      <th>Year</th>\n",
       "      <th></th>\n",
       "    </tr>\n",
       "  </thead>\n",
       "  <tbody>\n",
       "    <tr>\n",
       "      <th>1866</th>\n",
       "      <td>730.814</td>\n",
       "    </tr>\n",
       "    <tr>\n",
       "      <th>1867</th>\n",
       "      <td>793.905</td>\n",
       "    </tr>\n",
       "    <tr>\n",
       "      <th>1868</th>\n",
       "      <td>919.590</td>\n",
       "    </tr>\n",
       "    <tr>\n",
       "      <th>1869</th>\n",
       "      <td>782.084</td>\n",
       "    </tr>\n",
       "    <tr>\n",
       "      <th>1870</th>\n",
       "      <td>1124.775</td>\n",
       "    </tr>\n",
       "  </tbody>\n",
       "</table>\n",
       "</div>"
      ],
      "text/plain": [
       "      Mil_Bushels_Corn\n",
       "Year                  \n",
       "1866           730.814\n",
       "1867           793.905\n",
       "1868           919.590\n",
       "1869           782.084\n",
       "1870          1124.775"
      ]
     },
     "execution_count": 7,
     "metadata": {},
     "output_type": "execute_result"
    }
   ],
   "source": [
    "#Ready to be merged with the other dataframe\n",
    "corn.head()"
   ]
  },
  {
   "cell_type": "markdown",
   "id": "60c33d3c-ef88-4d82-b590-efefc5aa4131",
   "metadata": {},
   "source": [
    "Moving onto infant mortality data.\n",
    "\n",
    "This data needs to be reformatted into multiple columns and aggregated at the year level\n",
    "in order to get mortality rates for 0-2 year olds"
   ]
  },
  {
   "cell_type": "code",
   "execution_count": 8,
   "id": "50d36297-3163-4c55-8a38-7e3bc94ed3c5",
   "metadata": {},
   "outputs": [
    {
     "data": {
      "text/html": [
       "<div>\n",
       "<style scoped>\n",
       "    .dataframe tbody tr th:only-of-type {\n",
       "        vertical-align: middle;\n",
       "    }\n",
       "\n",
       "    .dataframe tbody tr th {\n",
       "        vertical-align: top;\n",
       "    }\n",
       "\n",
       "    .dataframe thead th {\n",
       "        text-align: right;\n",
       "    }\n",
       "</style>\n",
       "<table border=\"1\" class=\"dataframe\">\n",
       "  <thead>\n",
       "    <tr style=\"text-align: right;\">\n",
       "      <th></th>\n",
       "      <th>Year          Age             Female            Male           Total</th>\n",
       "    </tr>\n",
       "  </thead>\n",
       "  <tbody>\n",
       "    <tr>\n",
       "      <th>0</th>\n",
       "      <td>1950           0             0.040251       ...</td>\n",
       "    </tr>\n",
       "    <tr>\n",
       "      <th>1</th>\n",
       "      <td>1950           1             0.003314       ...</td>\n",
       "    </tr>\n",
       "    <tr>\n",
       "      <th>2</th>\n",
       "      <td>1950           2             0.001979       ...</td>\n",
       "    </tr>\n",
       "    <tr>\n",
       "      <th>3</th>\n",
       "      <td>1950           3             0.001732       ...</td>\n",
       "    </tr>\n",
       "    <tr>\n",
       "      <th>4</th>\n",
       "      <td>1950           4             0.001627       ...</td>\n",
       "    </tr>\n",
       "  </tbody>\n",
       "</table>\n",
       "</div>"
      ],
      "text/plain": [
       "  Year          Age             Female            Male           Total\n",
       "0    1950           0             0.040251       ...                  \n",
       "1    1950           1             0.003314       ...                  \n",
       "2    1950           2             0.001979       ...                  \n",
       "3    1950           3             0.001732       ...                  \n",
       "4    1950           4             0.001627       ...                  "
      ]
     },
     "execution_count": 8,
     "metadata": {},
     "output_type": "execute_result"
    }
   ],
   "source": [
    "mort_rates = pd.read_csv('Death_rates.txt', delimiter = '\\t', skiprows=2)\n",
    "\n",
    "#Data is all in one column\n",
    "mort_rates.head()"
   ]
  },
  {
   "cell_type": "code",
   "execution_count": 9,
   "id": "75385294-82ef-4fce-9add-195c3eaa5336",
   "metadata": {},
   "outputs": [
    {
     "data": {
      "text/plain": [
       "Index(['  Year          Age             Female            Male           Total'], dtype='object')"
      ]
     },
     "execution_count": 9,
     "metadata": {},
     "output_type": "execute_result"
    }
   ],
   "source": [
    "#Inspecting column header to get the name\n",
    "mort_rates.columns"
   ]
  },
  {
   "cell_type": "code",
   "execution_count": 10,
   "id": "0b06e7c3-b45e-439c-90af-5fd9a091c50e",
   "metadata": {},
   "outputs": [
    {
     "data": {
      "text/html": [
       "<div>\n",
       "<style scoped>\n",
       "    .dataframe tbody tr th:only-of-type {\n",
       "        vertical-align: middle;\n",
       "    }\n",
       "\n",
       "    .dataframe tbody tr th {\n",
       "        vertical-align: top;\n",
       "    }\n",
       "\n",
       "    .dataframe thead th {\n",
       "        text-align: right;\n",
       "    }\n",
       "</style>\n",
       "<table border=\"1\" class=\"dataframe\">\n",
       "  <thead>\n",
       "    <tr style=\"text-align: right;\">\n",
       "      <th></th>\n",
       "      <th>0</th>\n",
       "      <th>1</th>\n",
       "      <th>2</th>\n",
       "      <th>3</th>\n",
       "      <th>4</th>\n",
       "      <th>5</th>\n",
       "    </tr>\n",
       "  </thead>\n",
       "  <tbody>\n",
       "    <tr>\n",
       "      <th>0</th>\n",
       "      <td></td>\n",
       "      <td>1950</td>\n",
       "      <td>0</td>\n",
       "      <td>0.040251</td>\n",
       "      <td>0.051421</td>\n",
       "      <td>0.045980</td>\n",
       "    </tr>\n",
       "    <tr>\n",
       "      <th>1</th>\n",
       "      <td></td>\n",
       "      <td>1950</td>\n",
       "      <td>1</td>\n",
       "      <td>0.003314</td>\n",
       "      <td>0.004448</td>\n",
       "      <td>0.003894</td>\n",
       "    </tr>\n",
       "    <tr>\n",
       "      <th>2</th>\n",
       "      <td></td>\n",
       "      <td>1950</td>\n",
       "      <td>2</td>\n",
       "      <td>0.001979</td>\n",
       "      <td>0.002293</td>\n",
       "      <td>0.002140</td>\n",
       "    </tr>\n",
       "    <tr>\n",
       "      <th>3</th>\n",
       "      <td></td>\n",
       "      <td>1950</td>\n",
       "      <td>3</td>\n",
       "      <td>0.001732</td>\n",
       "      <td>0.001868</td>\n",
       "      <td>0.001802</td>\n",
       "    </tr>\n",
       "    <tr>\n",
       "      <th>4</th>\n",
       "      <td></td>\n",
       "      <td>1950</td>\n",
       "      <td>4</td>\n",
       "      <td>0.001627</td>\n",
       "      <td>0.001454</td>\n",
       "      <td>0.001539</td>\n",
       "    </tr>\n",
       "  </tbody>\n",
       "</table>\n",
       "</div>"
      ],
      "text/plain": [
       "  0     1  2         3         4         5\n",
       "0    1950  0  0.040251  0.051421  0.045980\n",
       "1    1950  1  0.003314  0.004448  0.003894\n",
       "2    1950  2  0.001979  0.002293  0.002140\n",
       "3    1950  3  0.001732  0.001868  0.001802\n",
       "4    1950  4  0.001627  0.001454  0.001539"
      ]
     },
     "execution_count": 10,
     "metadata": {},
     "output_type": "execute_result"
    }
   ],
   "source": [
    "#Using regex to account for varying spacing and convert to df\n",
    "split = mort_rates['  Year          Age             Female            Male           Total'].str.split(r'\\s+', expand=True)\n",
    "\n",
    "split.head()"
   ]
  },
  {
   "cell_type": "code",
   "execution_count": 11,
   "id": "e4594e4b-b92e-46f6-8a1a-b3126b6f420e",
   "metadata": {},
   "outputs": [
    {
     "data": {
      "text/html": [
       "<div>\n",
       "<style scoped>\n",
       "    .dataframe tbody tr th:only-of-type {\n",
       "        vertical-align: middle;\n",
       "    }\n",
       "\n",
       "    .dataframe tbody tr th {\n",
       "        vertical-align: top;\n",
       "    }\n",
       "\n",
       "    .dataframe thead th {\n",
       "        text-align: right;\n",
       "    }\n",
       "</style>\n",
       "<table border=\"1\" class=\"dataframe\">\n",
       "  <thead>\n",
       "    <tr style=\"text-align: right;\">\n",
       "      <th></th>\n",
       "      <th>year</th>\n",
       "      <th>age</th>\n",
       "      <th>female</th>\n",
       "      <th>male</th>\n",
       "      <th>total</th>\n",
       "    </tr>\n",
       "  </thead>\n",
       "  <tbody>\n",
       "    <tr>\n",
       "      <th>0</th>\n",
       "      <td>1950</td>\n",
       "      <td>0</td>\n",
       "      <td>0.040251</td>\n",
       "      <td>0.051421</td>\n",
       "      <td>0.045980</td>\n",
       "    </tr>\n",
       "    <tr>\n",
       "      <th>1</th>\n",
       "      <td>1950</td>\n",
       "      <td>1</td>\n",
       "      <td>0.003314</td>\n",
       "      <td>0.004448</td>\n",
       "      <td>0.003894</td>\n",
       "    </tr>\n",
       "    <tr>\n",
       "      <th>2</th>\n",
       "      <td>1950</td>\n",
       "      <td>2</td>\n",
       "      <td>0.001979</td>\n",
       "      <td>0.002293</td>\n",
       "      <td>0.002140</td>\n",
       "    </tr>\n",
       "    <tr>\n",
       "      <th>3</th>\n",
       "      <td>1950</td>\n",
       "      <td>3</td>\n",
       "      <td>0.001732</td>\n",
       "      <td>0.001868</td>\n",
       "      <td>0.001802</td>\n",
       "    </tr>\n",
       "    <tr>\n",
       "      <th>4</th>\n",
       "      <td>1950</td>\n",
       "      <td>4</td>\n",
       "      <td>0.001627</td>\n",
       "      <td>0.001454</td>\n",
       "      <td>0.001539</td>\n",
       "    </tr>\n",
       "    <tr>\n",
       "      <th>...</th>\n",
       "      <td>...</td>\n",
       "      <td>...</td>\n",
       "      <td>...</td>\n",
       "      <td>...</td>\n",
       "      <td>...</td>\n",
       "    </tr>\n",
       "    <tr>\n",
       "      <th>7876</th>\n",
       "      <td>2020</td>\n",
       "      <td>106</td>\n",
       "      <td>0.878170</td>\n",
       "      <td>6.000000</td>\n",
       "      <td>0.951639</td>\n",
       "    </tr>\n",
       "    <tr>\n",
       "      <th>7877</th>\n",
       "      <td>2020</td>\n",
       "      <td>107</td>\n",
       "      <td>1.349068</td>\n",
       "      <td>.</td>\n",
       "      <td>1.349068</td>\n",
       "    </tr>\n",
       "    <tr>\n",
       "      <th>7878</th>\n",
       "      <td>2020</td>\n",
       "      <td>108</td>\n",
       "      <td>2.670000</td>\n",
       "      <td>.</td>\n",
       "      <td>2.670000</td>\n",
       "    </tr>\n",
       "    <tr>\n",
       "      <th>7879</th>\n",
       "      <td>2020</td>\n",
       "      <td>109</td>\n",
       "      <td>6.000000</td>\n",
       "      <td>.</td>\n",
       "      <td>6.000000</td>\n",
       "    </tr>\n",
       "    <tr>\n",
       "      <th>7880</th>\n",
       "      <td>2020</td>\n",
       "      <td>110+</td>\n",
       "      <td>.</td>\n",
       "      <td>.</td>\n",
       "      <td>.</td>\n",
       "    </tr>\n",
       "  </tbody>\n",
       "</table>\n",
       "<p>7881 rows × 5 columns</p>\n",
       "</div>"
      ],
      "text/plain": [
       "      year   age    female      male     total\n",
       "0     1950     0  0.040251  0.051421  0.045980\n",
       "1     1950     1  0.003314  0.004448  0.003894\n",
       "2     1950     2  0.001979  0.002293  0.002140\n",
       "3     1950     3  0.001732  0.001868  0.001802\n",
       "4     1950     4  0.001627  0.001454  0.001539\n",
       "...    ...   ...       ...       ...       ...\n",
       "7876  2020   106  0.878170  6.000000  0.951639\n",
       "7877  2020   107  1.349068         .  1.349068\n",
       "7878  2020   108  2.670000         .  2.670000\n",
       "7879  2020   109  6.000000         .  6.000000\n",
       "7880  2020  110+         .         .         .\n",
       "\n",
       "[7881 rows x 5 columns]"
      ]
     },
     "execution_count": 11,
     "metadata": {},
     "output_type": "execute_result"
    }
   ],
   "source": [
    "#First column is blank, needs to be dropped\n",
    "split.columns = ['blank','year','age','female','male','total']\n",
    "split = split.drop(columns = ['blank'])\n",
    "\n",
    "#Note: missing values are coded as '.'\n",
    "#this may or may not need to be replaced with NaN later\n",
    "split"
   ]
  },
  {
   "cell_type": "code",
   "execution_count": 12,
   "id": "4b0779e7-2f10-46bb-aea2-6e247a40328f",
   "metadata": {},
   "outputs": [
    {
     "data": {
      "text/plain": [
       "year      object\n",
       "age       object\n",
       "female    object\n",
       "male      object\n",
       "total     object\n",
       "dtype: object"
      ]
     },
     "execution_count": 12,
     "metadata": {},
     "output_type": "execute_result"
    }
   ],
   "source": [
    "#Note: variables are all strings\n",
    "split.dtypes"
   ]
  },
  {
   "cell_type": "markdown",
   "id": "3a09c408-6b6e-4a16-9a6b-d8a176972a0d",
   "metadata": {},
   "source": [
    "For the purposes of this analysis we will consider an infant to be 0-2 years old\n",
    "\n",
    "We will average across this age range for each year to then be used for the data visualization"
   ]
  },
  {
   "cell_type": "code",
   "execution_count": 13,
   "id": "2e7abff5-f6ad-4362-be71-2d5a936912d3",
   "metadata": {},
   "outputs": [
    {
     "data": {
      "text/html": [
       "<div>\n",
       "<style scoped>\n",
       "    .dataframe tbody tr th:only-of-type {\n",
       "        vertical-align: middle;\n",
       "    }\n",
       "\n",
       "    .dataframe tbody tr th {\n",
       "        vertical-align: top;\n",
       "    }\n",
       "\n",
       "    .dataframe thead th {\n",
       "        text-align: right;\n",
       "    }\n",
       "</style>\n",
       "<table border=\"1\" class=\"dataframe\">\n",
       "  <thead>\n",
       "    <tr style=\"text-align: right;\">\n",
       "      <th></th>\n",
       "      <th>year</th>\n",
       "      <th>age</th>\n",
       "      <th>female</th>\n",
       "      <th>male</th>\n",
       "      <th>total</th>\n",
       "    </tr>\n",
       "  </thead>\n",
       "  <tbody>\n",
       "    <tr>\n",
       "      <th>0</th>\n",
       "      <td>1950</td>\n",
       "      <td>0</td>\n",
       "      <td>0.040251</td>\n",
       "      <td>0.051421</td>\n",
       "      <td>0.045980</td>\n",
       "    </tr>\n",
       "    <tr>\n",
       "      <th>1</th>\n",
       "      <td>1950</td>\n",
       "      <td>1</td>\n",
       "      <td>0.003314</td>\n",
       "      <td>0.004448</td>\n",
       "      <td>0.003894</td>\n",
       "    </tr>\n",
       "    <tr>\n",
       "      <th>2</th>\n",
       "      <td>1950</td>\n",
       "      <td>2</td>\n",
       "      <td>0.001979</td>\n",
       "      <td>0.002293</td>\n",
       "      <td>0.002140</td>\n",
       "    </tr>\n",
       "    <tr>\n",
       "      <th>111</th>\n",
       "      <td>1951</td>\n",
       "      <td>0</td>\n",
       "      <td>0.039399</td>\n",
       "      <td>0.052531</td>\n",
       "      <td>0.046131</td>\n",
       "    </tr>\n",
       "    <tr>\n",
       "      <th>112</th>\n",
       "      <td>1951</td>\n",
       "      <td>1</td>\n",
       "      <td>0.004722</td>\n",
       "      <td>0.004913</td>\n",
       "      <td>0.004820</td>\n",
       "    </tr>\n",
       "    <tr>\n",
       "      <th>...</th>\n",
       "      <td>...</td>\n",
       "      <td>...</td>\n",
       "      <td>...</td>\n",
       "      <td>...</td>\n",
       "      <td>...</td>\n",
       "    </tr>\n",
       "    <tr>\n",
       "      <th>7660</th>\n",
       "      <td>2019</td>\n",
       "      <td>1</td>\n",
       "      <td>0.000164</td>\n",
       "      <td>0.000317</td>\n",
       "      <td>0.000242</td>\n",
       "    </tr>\n",
       "    <tr>\n",
       "      <th>7661</th>\n",
       "      <td>2019</td>\n",
       "      <td>2</td>\n",
       "      <td>0.000097</td>\n",
       "      <td>0.000093</td>\n",
       "      <td>0.000095</td>\n",
       "    </tr>\n",
       "    <tr>\n",
       "      <th>7770</th>\n",
       "      <td>2020</td>\n",
       "      <td>0</td>\n",
       "      <td>0.002921</td>\n",
       "      <td>0.002784</td>\n",
       "      <td>0.002851</td>\n",
       "    </tr>\n",
       "    <tr>\n",
       "      <th>7771</th>\n",
       "      <td>2020</td>\n",
       "      <td>1</td>\n",
       "      <td>0.000169</td>\n",
       "      <td>0.000129</td>\n",
       "      <td>0.000149</td>\n",
       "    </tr>\n",
       "    <tr>\n",
       "      <th>7772</th>\n",
       "      <td>2020</td>\n",
       "      <td>2</td>\n",
       "      <td>0.000066</td>\n",
       "      <td>0.000126</td>\n",
       "      <td>0.000097</td>\n",
       "    </tr>\n",
       "  </tbody>\n",
       "</table>\n",
       "<p>213 rows × 5 columns</p>\n",
       "</div>"
      ],
      "text/plain": [
       "      year age    female      male     total\n",
       "0     1950   0  0.040251  0.051421  0.045980\n",
       "1     1950   1  0.003314  0.004448  0.003894\n",
       "2     1950   2  0.001979  0.002293  0.002140\n",
       "111   1951   0  0.039399  0.052531  0.046131\n",
       "112   1951   1  0.004722  0.004913  0.004820\n",
       "...    ...  ..       ...       ...       ...\n",
       "7660  2019   1  0.000164  0.000317  0.000242\n",
       "7661  2019   2  0.000097  0.000093  0.000095\n",
       "7770  2020   0  0.002921  0.002784  0.002851\n",
       "7771  2020   1  0.000169  0.000129  0.000149\n",
       "7772  2020   2  0.000066  0.000126  0.000097\n",
       "\n",
       "[213 rows x 5 columns]"
      ]
     },
     "execution_count": 13,
     "metadata": {},
     "output_type": "execute_result"
    }
   ],
   "source": [
    "infants = ['0','1','2']\n",
    "\n",
    "infant_mort = split[split['age'].isin(infants)]\n",
    "infant_mort"
   ]
  },
  {
   "cell_type": "code",
   "execution_count": 14,
   "id": "2f130564-a122-4a59-98e1-7d93c3a4e345",
   "metadata": {},
   "outputs": [
    {
     "data": {
      "text/plain": [
       "array(['0.040251', '0.003314', '0.001979', '0.039399', '0.004722',\n",
       "       '0.002270', '0.038864', '0.003552', '0.002147', '0.035011',\n",
       "       '0.003611', '0.001930', '0.032741', '0.003282', '0.001704',\n",
       "       '0.032708', '0.002435', '0.001535', '0.031327', '0.003126',\n",
       "       '0.001139', '0.029340', '0.002014', '0.001348', '0.030330',\n",
       "       '0.001871', '0.001253', '0.028163', '0.001768', '0.000970',\n",
       "       '0.024962', '0.001827', '0.001380', '0.026952', '0.001943',\n",
       "       '0.001541', '0.025888', '0.001815', '0.023349', '0.001590',\n",
       "       '0.000636', '0.024565', '0.001554', '0.001072', '0.021975',\n",
       "       '0.001585', '0.001112', '0.021548', '0.001346', '0.001251',\n",
       "       '0.021479', '0.000981', '0.000703', '0.019752', '0.001242',\n",
       "       '0.000619', '0.019489', '0.001386', '0.000633', '0.017826',\n",
       "       '0.001653', '0.000768', '0.016069', '0.001342', '0.000653',\n",
       "       '0.016262', '0.001435', '0.000475', '0.015765', '0.001191',\n",
       "       '0.000464', '0.014881', '0.000874', '0.000666', '0.015512',\n",
       "       '0.001201', '0.000628', '0.014061', '0.001003', '0.000686',\n",
       "       '0.014487', '0.000906', '0.013823', '0.000730', '0.000916',\n",
       "       '0.011074', '0.001120', '0.000698', '0.010181', '0.000716',\n",
       "       '0.000533', '0.009283', '0.000489', '0.009655', '0.000739',\n",
       "       '0.000760', '0.009172', '0.000904', '0.000371', '0.008016',\n",
       "       '0.000546', '0.000352', '0.008065', '0.000711', '0.000367',\n",
       "       '0.008244', '0.000430', '0.000325', '0.006714', '0.000706',\n",
       "       '0.007800', '0.000447', '0.000238', '0.006731', '0.000608',\n",
       "       '0.000350', '0.007298', '0.000377', '0.000184', '0.006561',\n",
       "       '0.000309', '0.000269', '0.005354', '0.000500', '0.000423',\n",
       "       '0.005520', '0.000314', '0.000344', '0.004944', '0.000413',\n",
       "       '0.000196', '0.005791', '0.000211', '0.000247', '0.005663',\n",
       "       '0.000754', '0.000294', '0.006302', '0.000460', '0.000415',\n",
       "       '0.004705', '0.000436', '0.000124', '0.005599', '0.000312',\n",
       "       '0.005155', '0.000153', '0.000189', '0.005760', '0.000376',\n",
       "       '0.000368', '0.004924', '0.000559', '0.000110', '0.004520',\n",
       "       '0.000288', '0.000333', '0.004496', '0.000204', '0.000145',\n",
       "       '0.004244', '0.000439', '0.000172', '0.000170', '0.003186',\n",
       "       '0.000494', '0.000067', '0.003444', '0.000305', '0.000195',\n",
       "       '0.002854', '0.000121', '0.003246', '0.000256', '0.000086',\n",
       "       '0.003133', '0.000114', '0.003496', '0.000255', '0.000143',\n",
       "       '0.003152', '0.000203', '0.002909', '0.000152', '0.000205',\n",
       "       '0.003202', '0.000187', '0.000092', '0.002759', '0.000096',\n",
       "       '0.000156', '0.003182', '0.000291', '0.000064', '0.002474',\n",
       "       '0.000194', '0.000129', '0.002904', '0.000164', '0.000097',\n",
       "       '0.002921', '0.000169', '0.000066'], dtype=object)"
      ]
     },
     "execution_count": 14,
     "metadata": {},
     "output_type": "execute_result"
    }
   ],
   "source": [
    "#Only have float values now (as strings)\n",
    "infant_mort['female'].unique()"
   ]
  },
  {
   "cell_type": "code",
   "execution_count": 15,
   "id": "e8a85b72-536b-4039-a7aa-f08f51d7b1a2",
   "metadata": {},
   "outputs": [
    {
     "data": {
      "text/html": [
       "<div>\n",
       "<style scoped>\n",
       "    .dataframe tbody tr th:only-of-type {\n",
       "        vertical-align: middle;\n",
       "    }\n",
       "\n",
       "    .dataframe tbody tr th {\n",
       "        vertical-align: top;\n",
       "    }\n",
       "\n",
       "    .dataframe thead th {\n",
       "        text-align: right;\n",
       "    }\n",
       "</style>\n",
       "<table border=\"1\" class=\"dataframe\">\n",
       "  <thead>\n",
       "    <tr style=\"text-align: right;\">\n",
       "      <th></th>\n",
       "      <th>year</th>\n",
       "      <th>age</th>\n",
       "      <th>female</th>\n",
       "      <th>male</th>\n",
       "      <th>total</th>\n",
       "    </tr>\n",
       "  </thead>\n",
       "  <tbody>\n",
       "    <tr>\n",
       "      <th>0</th>\n",
       "      <td>1950</td>\n",
       "      <td>0</td>\n",
       "      <td>0.040251</td>\n",
       "      <td>0.051421</td>\n",
       "      <td>0.045980</td>\n",
       "    </tr>\n",
       "    <tr>\n",
       "      <th>1</th>\n",
       "      <td>1950</td>\n",
       "      <td>1</td>\n",
       "      <td>0.003314</td>\n",
       "      <td>0.004448</td>\n",
       "      <td>0.003894</td>\n",
       "    </tr>\n",
       "    <tr>\n",
       "      <th>2</th>\n",
       "      <td>1950</td>\n",
       "      <td>2</td>\n",
       "      <td>0.001979</td>\n",
       "      <td>0.002293</td>\n",
       "      <td>0.002140</td>\n",
       "    </tr>\n",
       "    <tr>\n",
       "      <th>111</th>\n",
       "      <td>1951</td>\n",
       "      <td>0</td>\n",
       "      <td>0.039399</td>\n",
       "      <td>0.052531</td>\n",
       "      <td>0.046131</td>\n",
       "    </tr>\n",
       "    <tr>\n",
       "      <th>112</th>\n",
       "      <td>1951</td>\n",
       "      <td>1</td>\n",
       "      <td>0.004722</td>\n",
       "      <td>0.004913</td>\n",
       "      <td>0.004820</td>\n",
       "    </tr>\n",
       "    <tr>\n",
       "      <th>...</th>\n",
       "      <td>...</td>\n",
       "      <td>...</td>\n",
       "      <td>...</td>\n",
       "      <td>...</td>\n",
       "      <td>...</td>\n",
       "    </tr>\n",
       "    <tr>\n",
       "      <th>7660</th>\n",
       "      <td>2019</td>\n",
       "      <td>1</td>\n",
       "      <td>0.000164</td>\n",
       "      <td>0.000317</td>\n",
       "      <td>0.000242</td>\n",
       "    </tr>\n",
       "    <tr>\n",
       "      <th>7661</th>\n",
       "      <td>2019</td>\n",
       "      <td>2</td>\n",
       "      <td>0.000097</td>\n",
       "      <td>0.000093</td>\n",
       "      <td>0.000095</td>\n",
       "    </tr>\n",
       "    <tr>\n",
       "      <th>7770</th>\n",
       "      <td>2020</td>\n",
       "      <td>0</td>\n",
       "      <td>0.002921</td>\n",
       "      <td>0.002784</td>\n",
       "      <td>0.002851</td>\n",
       "    </tr>\n",
       "    <tr>\n",
       "      <th>7771</th>\n",
       "      <td>2020</td>\n",
       "      <td>1</td>\n",
       "      <td>0.000169</td>\n",
       "      <td>0.000129</td>\n",
       "      <td>0.000149</td>\n",
       "    </tr>\n",
       "    <tr>\n",
       "      <th>7772</th>\n",
       "      <td>2020</td>\n",
       "      <td>2</td>\n",
       "      <td>0.000066</td>\n",
       "      <td>0.000126</td>\n",
       "      <td>0.000097</td>\n",
       "    </tr>\n",
       "  </tbody>\n",
       "</table>\n",
       "<p>213 rows × 5 columns</p>\n",
       "</div>"
      ],
      "text/plain": [
       "      year  age    female      male     total\n",
       "0     1950    0  0.040251  0.051421  0.045980\n",
       "1     1950    1  0.003314  0.004448  0.003894\n",
       "2     1950    2  0.001979  0.002293  0.002140\n",
       "111   1951    0  0.039399  0.052531  0.046131\n",
       "112   1951    1  0.004722  0.004913  0.004820\n",
       "...    ...  ...       ...       ...       ...\n",
       "7660  2019    1  0.000164  0.000317  0.000242\n",
       "7661  2019    2  0.000097  0.000093  0.000095\n",
       "7770  2020    0  0.002921  0.002784  0.002851\n",
       "7771  2020    1  0.000169  0.000129  0.000149\n",
       "7772  2020    2  0.000066  0.000126  0.000097\n",
       "\n",
       "[213 rows x 5 columns]"
      ]
     },
     "execution_count": 15,
     "metadata": {},
     "output_type": "execute_result"
    }
   ],
   "source": [
    "#Convert strings/objects to ints/floats to be used for groupby later\n",
    "infant_mort = infant_mort.astype({'year':'int','age':'int','female':'float','male':'float','total':'float'})\n",
    "infant_mort"
   ]
  },
  {
   "cell_type": "code",
   "execution_count": 16,
   "id": "4ff3e04d-07fc-4956-8d5a-3d35e215ffa4",
   "metadata": {},
   "outputs": [
    {
     "data": {
      "text/plain": [
       "year        int32\n",
       "age         int32\n",
       "female    float64\n",
       "male      float64\n",
       "total     float64\n",
       "dtype: object"
      ]
     },
     "execution_count": 16,
     "metadata": {},
     "output_type": "execute_result"
    }
   ],
   "source": [
    "#Validation\n",
    "infant_mort.dtypes"
   ]
  },
  {
   "cell_type": "code",
   "execution_count": 17,
   "id": "dcddb160-ae61-45be-9343-77f99dfafcd3",
   "metadata": {},
   "outputs": [
    {
     "data": {
      "text/html": [
       "<div>\n",
       "<style scoped>\n",
       "    .dataframe tbody tr th:only-of-type {\n",
       "        vertical-align: middle;\n",
       "    }\n",
       "\n",
       "    .dataframe tbody tr th {\n",
       "        vertical-align: top;\n",
       "    }\n",
       "\n",
       "    .dataframe thead th {\n",
       "        text-align: right;\n",
       "    }\n",
       "</style>\n",
       "<table border=\"1\" class=\"dataframe\">\n",
       "  <thead>\n",
       "    <tr style=\"text-align: right;\">\n",
       "      <th></th>\n",
       "      <th>female</th>\n",
       "      <th>male</th>\n",
       "      <th>total</th>\n",
       "    </tr>\n",
       "    <tr>\n",
       "      <th>year</th>\n",
       "      <th></th>\n",
       "      <th></th>\n",
       "      <th></th>\n",
       "    </tr>\n",
       "  </thead>\n",
       "  <tbody>\n",
       "    <tr>\n",
       "      <th>1950</th>\n",
       "      <td>0.015181</td>\n",
       "      <td>0.019387</td>\n",
       "      <td>0.017338</td>\n",
       "    </tr>\n",
       "    <tr>\n",
       "      <th>1951</th>\n",
       "      <td>0.015464</td>\n",
       "      <td>0.020143</td>\n",
       "      <td>0.017862</td>\n",
       "    </tr>\n",
       "    <tr>\n",
       "      <th>1952</th>\n",
       "      <td>0.014854</td>\n",
       "      <td>0.018057</td>\n",
       "      <td>0.016490</td>\n",
       "    </tr>\n",
       "    <tr>\n",
       "      <th>1953</th>\n",
       "      <td>0.013517</td>\n",
       "      <td>0.016772</td>\n",
       "      <td>0.015183</td>\n",
       "    </tr>\n",
       "    <tr>\n",
       "      <th>1954</th>\n",
       "      <td>0.012576</td>\n",
       "      <td>0.016540</td>\n",
       "      <td>0.014608</td>\n",
       "    </tr>\n",
       "  </tbody>\n",
       "</table>\n",
       "</div>"
      ],
      "text/plain": [
       "        female      male     total\n",
       "year                              \n",
       "1950  0.015181  0.019387  0.017338\n",
       "1951  0.015464  0.020143  0.017862\n",
       "1952  0.014854  0.018057  0.016490\n",
       "1953  0.013517  0.016772  0.015183\n",
       "1954  0.012576  0.016540  0.014608"
      ]
     },
     "execution_count": 17,
     "metadata": {},
     "output_type": "execute_result"
    }
   ],
   "source": [
    "#We group and average the mortality rates of 0-2 year olds\n",
    "#Age col dropped; otherwise it would just be 1 (not very helpful)\n",
    "infant_mort_grouped = infant_mort.groupby('year').mean().drop(columns = ['age'])\n",
    "\n",
    "#Note: index is now year\n",
    "infant_mort_grouped.head()"
   ]
  },
  {
   "cell_type": "markdown",
   "id": "3cb657fb-e80c-4b8c-9bcf-325216e1c9fe",
   "metadata": {},
   "source": [
    "Using [The Human Mortality Database's Notes](https://www.mortality.org/Data/ExplanatoryNotes) we can find additional data about what the data represents (check the Methods Protocol link for equations)\n",
    "\n",
    "It seems to be reported by the rate per 1,000 deaths, so we can multiply the floats by 1,000 to more clearly represent the rate"
   ]
  },
  {
   "cell_type": "code",
   "execution_count": 18,
   "id": "01af0f4a-0336-4db6-923f-c46adea60b54",
   "metadata": {},
   "outputs": [],
   "source": [
    "infant_mort_grouped = infant_mort_grouped * 1000"
   ]
  },
  {
   "cell_type": "markdown",
   "id": "09655ec9-fcef-4c90-aac5-3a553f27a2bd",
   "metadata": {},
   "source": [
    "# Visualization\n",
    "Needed to use plotly graph objects. Took most of this from the documentation linked in lecture 21"
   ]
  },
  {
   "cell_type": "code",
   "execution_count": 19,
   "id": "f5ed5ab2-1800-4fea-94ec-09905a45799e",
   "metadata": {},
   "outputs": [
    {
     "data": {
      "text/html": [
       "        <script type=\"text/javascript\">\n",
       "        window.PlotlyConfig = {MathJaxConfig: 'local'};\n",
       "        if (window.MathJax && window.MathJax.Hub && window.MathJax.Hub.Config) {window.MathJax.Hub.Config({SVG: {font: \"STIX-Web\"}});}\n",
       "        if (typeof require !== 'undefined') {\n",
       "        require.undef(\"plotly\");\n",
       "        requirejs.config({\n",
       "            paths: {\n",
       "                'plotly': ['https://cdn.plot.ly/plotly-2.32.0.min']\n",
       "            }\n",
       "        });\n",
       "        require(['plotly'], function(Plotly) {\n",
       "            window._Plotly = Plotly;\n",
       "        });\n",
       "        }\n",
       "        </script>\n",
       "        "
      ]
     },
     "metadata": {},
     "output_type": "display_data"
    },
    {
     "data": {
      "application/vnd.plotly.v1+json": {
       "config": {
        "plotlyServerURL": "https://plot.ly"
       },
       "data": [
        {
         "mode": "lines+markers",
         "name": "Production in Million Bushels of Corn",
         "type": "scatter",
         "x": [
          1950,
          1951,
          1952,
          1953,
          1954,
          1955,
          1956,
          1957,
          1958,
          1959,
          1960,
          1961,
          1962,
          1963,
          1964,
          1965,
          1966,
          1967,
          1968,
          1969,
          1970,
          1971,
          1972,
          1973,
          1974,
          1975,
          1976,
          1977,
          1978,
          1979,
          1980,
          1981,
          1982,
          1983,
          1984,
          1985,
          1986,
          1987,
          1988,
          1989,
          1990,
          1991,
          1992,
          1993,
          1994,
          1995,
          1996,
          1997,
          1998,
          1999,
          2000,
          2001,
          2002,
          2003,
          2004,
          2005,
          2006,
          2007,
          2008,
          2009,
          2010,
          2011,
          2012,
          2013,
          2014,
          2015,
          2016,
          2017,
          2018,
          2019,
          2020
         ],
         "xaxis": "x",
         "y": [
          730.814,
          793.905,
          919.59,
          782.084,
          1124.775,
          1141.715,
          1279.369,
          1008.326,
          1058.778,
          1450.276,
          1478.173,
          1515.862,
          1564.537,
          1751.984,
          1706.673,
          1244.803,
          1755.272,
          1652.148,
          1947.838,
          2057.807,
          1782.767,
          1604.549,
          2250.632,
          2294.289,
          1650.446,
          2335.804,
          1897.412,
          1900.401,
          1615.016,
          2534.762,
          2671.048,
          2287.628,
          2351.323,
          2645.796,
          2661.978,
          1715.752,
          2773.954,
          2515.093,
          2686.624,
          2954.148,
          3032.91,
          2613.797,
          2566.742,
          2611.157,
          2852.794,
          2474.635,
          2947.842,
          2272.54,
          2523.75,
          2829.044,
          2425.206,
          2908.242,
          2441.249,
          2341.87,
          2695.085,
          2556.924,
          2229.496,
          2429.551,
          1860.112,
          2382.288,
          2140.207,
          2218.189,
          2260.99,
          2135.038,
          1757.297,
          2229.903,
          2578.685,
          2104.725,
          1146.734,
          2001.367,
          1258.673,
          2349.425,
          2300.095,
          2341.602,
          2206.882,
          2414.445,
          2801.819,
          2668.49,
          2801.612,
          2577.449,
          2916.089,
          2108.32,
          3307.038,
          2946.206,
          2764.071,
          2628.937,
          2980.793,
          2881.801,
          2707.913,
          2872.959,
          3075.336,
          3045.355,
          3356.205,
          3824.598,
          3906.949,
          3597.803,
          3606.311,
          4019.238,
          3484.253,
          4102.867,
          4167.608,
          4860.372,
          4449.542,
          4687.057,
          4152.243,
          5646.26,
          5579.832,
          5670.712,
          4701.402,
          5840.757,
          6289.169,
          6505.041,
          7267.927,
          7928.139,
          6639.396,
          8118.65,
          8235.101,
          4174.251,
          7672.13,
          8875.453,
          8225.764,
          7131.3,
          4928.681,
          7531.953,
          7934.028,
          7474.765,
          9476.698,
          6337.73,
          10050.52,
          7400.051,
          9232.557,
          9206.832,
          9758.685,
          9430.612,
          9915.051,
          9502.58,
          8966.787,
          10087.292,
          11805.581,
          11112.187,
          10531.123,
          13037.875,
          12043.203,
          13067.156,
          12425.33,
          12313.956,
          10755.111,
          13830.704,
          14217.292,
          13601.964,
          15148.038,
          14609.407,
          14321.674,
          13568.306,
          14086.699,
          15017.788,
          13650.531,
          15340.52,
          15142.749
         ],
         "yaxis": "y"
        },
        {
         "mode": "lines+markers",
         "name": "Infant Mortality Rate",
         "type": "scatter",
         "x": [
          1950,
          1951,
          1952,
          1953,
          1954,
          1955,
          1956,
          1957,
          1958,
          1959,
          1960,
          1961,
          1962,
          1963,
          1964,
          1965,
          1966,
          1967,
          1968,
          1969,
          1970,
          1971,
          1972,
          1973,
          1974,
          1975,
          1976,
          1977,
          1978,
          1979,
          1980,
          1981,
          1982,
          1983,
          1984,
          1985,
          1986,
          1987,
          1988,
          1989,
          1990,
          1991,
          1992,
          1993,
          1994,
          1995,
          1996,
          1997,
          1998,
          1999,
          2000,
          2001,
          2002,
          2003,
          2004,
          2005,
          2006,
          2007,
          2008,
          2009,
          2010,
          2011,
          2012,
          2013,
          2014,
          2015,
          2016,
          2017,
          2018,
          2019,
          2020
         ],
         "xaxis": "x",
         "y": [
          17.338,
          17.862333333333332,
          16.490000000000002,
          15.182666666666666,
          14.607666666666665,
          13.975,
          13.567999999999998,
          12.670333333333332,
          13.044666666666668,
          11.997666666666666,
          10.948666666666668,
          11.255333333333333,
          10.887666666666666,
          9.918666666666669,
          9.910333333333334,
          9.250333333333332,
          9.164666666666667,
          8.822999999999999,
          7.802,
          7.776666666666667,
          7.360666666666667,
          6.951666666666666,
          6.777666666666667,
          6.700333333333333,
          6.621999999999999,
          6.5216666666666665,
          5.841333333333333,
          5.849333333333332,
          5.5953333333333335,
          4.940666666666667,
          4.320333333333333,
          3.925666666666667,
          3.9946666666666664,
          3.823,
          3.4993333333333334,
          3.304,
          3.3326666666666664,
          2.963,
          3.227333333333333,
          3.049,
          3.0776666666666666,
          2.7933333333333334,
          2.435,
          2.2813333333333334,
          2.166666666666667,
          2.3103333333333333,
          2.3640000000000003,
          2.3363333333333336,
          2.2046666666666668,
          2.3066666666666666,
          2.2749999999999995,
          2.322666666666667,
          2.0186666666666664,
          2.0163333333333333,
          1.7286666666666666,
          1.4866666666666666,
          1.4999999999999998,
          1.3283333333333334,
          1.4999999999999998,
          1.3373333333333335,
          1.4,
          1.2873333333333332,
          1.259,
          1.3236666666666668,
          1.2633333333333334,
          1.2733333333333334,
          1.1226666666666665,
          1.107,
          1.0186666666666666,
          1.1603333333333332,
          1.0323333333333333
         ],
         "yaxis": "y2"
        }
       ],
       "layout": {
        "legend": {
         "title": {
          "text": "Series"
         }
        },
        "template": {
         "data": {
          "bar": [
           {
            "error_x": {
             "color": "#2a3f5f"
            },
            "error_y": {
             "color": "#2a3f5f"
            },
            "marker": {
             "line": {
              "color": "#E5ECF6",
              "width": 0.5
             },
             "pattern": {
              "fillmode": "overlay",
              "size": 10,
              "solidity": 0.2
             }
            },
            "type": "bar"
           }
          ],
          "barpolar": [
           {
            "marker": {
             "line": {
              "color": "#E5ECF6",
              "width": 0.5
             },
             "pattern": {
              "fillmode": "overlay",
              "size": 10,
              "solidity": 0.2
             }
            },
            "type": "barpolar"
           }
          ],
          "carpet": [
           {
            "aaxis": {
             "endlinecolor": "#2a3f5f",
             "gridcolor": "white",
             "linecolor": "white",
             "minorgridcolor": "white",
             "startlinecolor": "#2a3f5f"
            },
            "baxis": {
             "endlinecolor": "#2a3f5f",
             "gridcolor": "white",
             "linecolor": "white",
             "minorgridcolor": "white",
             "startlinecolor": "#2a3f5f"
            },
            "type": "carpet"
           }
          ],
          "choropleth": [
           {
            "colorbar": {
             "outlinewidth": 0,
             "ticks": ""
            },
            "type": "choropleth"
           }
          ],
          "contour": [
           {
            "colorbar": {
             "outlinewidth": 0,
             "ticks": ""
            },
            "colorscale": [
             [
              0,
              "#0d0887"
             ],
             [
              0.1111111111111111,
              "#46039f"
             ],
             [
              0.2222222222222222,
              "#7201a8"
             ],
             [
              0.3333333333333333,
              "#9c179e"
             ],
             [
              0.4444444444444444,
              "#bd3786"
             ],
             [
              0.5555555555555556,
              "#d8576b"
             ],
             [
              0.6666666666666666,
              "#ed7953"
             ],
             [
              0.7777777777777778,
              "#fb9f3a"
             ],
             [
              0.8888888888888888,
              "#fdca26"
             ],
             [
              1,
              "#f0f921"
             ]
            ],
            "type": "contour"
           }
          ],
          "contourcarpet": [
           {
            "colorbar": {
             "outlinewidth": 0,
             "ticks": ""
            },
            "type": "contourcarpet"
           }
          ],
          "heatmap": [
           {
            "colorbar": {
             "outlinewidth": 0,
             "ticks": ""
            },
            "colorscale": [
             [
              0,
              "#0d0887"
             ],
             [
              0.1111111111111111,
              "#46039f"
             ],
             [
              0.2222222222222222,
              "#7201a8"
             ],
             [
              0.3333333333333333,
              "#9c179e"
             ],
             [
              0.4444444444444444,
              "#bd3786"
             ],
             [
              0.5555555555555556,
              "#d8576b"
             ],
             [
              0.6666666666666666,
              "#ed7953"
             ],
             [
              0.7777777777777778,
              "#fb9f3a"
             ],
             [
              0.8888888888888888,
              "#fdca26"
             ],
             [
              1,
              "#f0f921"
             ]
            ],
            "type": "heatmap"
           }
          ],
          "heatmapgl": [
           {
            "colorbar": {
             "outlinewidth": 0,
             "ticks": ""
            },
            "colorscale": [
             [
              0,
              "#0d0887"
             ],
             [
              0.1111111111111111,
              "#46039f"
             ],
             [
              0.2222222222222222,
              "#7201a8"
             ],
             [
              0.3333333333333333,
              "#9c179e"
             ],
             [
              0.4444444444444444,
              "#bd3786"
             ],
             [
              0.5555555555555556,
              "#d8576b"
             ],
             [
              0.6666666666666666,
              "#ed7953"
             ],
             [
              0.7777777777777778,
              "#fb9f3a"
             ],
             [
              0.8888888888888888,
              "#fdca26"
             ],
             [
              1,
              "#f0f921"
             ]
            ],
            "type": "heatmapgl"
           }
          ],
          "histogram": [
           {
            "marker": {
             "pattern": {
              "fillmode": "overlay",
              "size": 10,
              "solidity": 0.2
             }
            },
            "type": "histogram"
           }
          ],
          "histogram2d": [
           {
            "colorbar": {
             "outlinewidth": 0,
             "ticks": ""
            },
            "colorscale": [
             [
              0,
              "#0d0887"
             ],
             [
              0.1111111111111111,
              "#46039f"
             ],
             [
              0.2222222222222222,
              "#7201a8"
             ],
             [
              0.3333333333333333,
              "#9c179e"
             ],
             [
              0.4444444444444444,
              "#bd3786"
             ],
             [
              0.5555555555555556,
              "#d8576b"
             ],
             [
              0.6666666666666666,
              "#ed7953"
             ],
             [
              0.7777777777777778,
              "#fb9f3a"
             ],
             [
              0.8888888888888888,
              "#fdca26"
             ],
             [
              1,
              "#f0f921"
             ]
            ],
            "type": "histogram2d"
           }
          ],
          "histogram2dcontour": [
           {
            "colorbar": {
             "outlinewidth": 0,
             "ticks": ""
            },
            "colorscale": [
             [
              0,
              "#0d0887"
             ],
             [
              0.1111111111111111,
              "#46039f"
             ],
             [
              0.2222222222222222,
              "#7201a8"
             ],
             [
              0.3333333333333333,
              "#9c179e"
             ],
             [
              0.4444444444444444,
              "#bd3786"
             ],
             [
              0.5555555555555556,
              "#d8576b"
             ],
             [
              0.6666666666666666,
              "#ed7953"
             ],
             [
              0.7777777777777778,
              "#fb9f3a"
             ],
             [
              0.8888888888888888,
              "#fdca26"
             ],
             [
              1,
              "#f0f921"
             ]
            ],
            "type": "histogram2dcontour"
           }
          ],
          "mesh3d": [
           {
            "colorbar": {
             "outlinewidth": 0,
             "ticks": ""
            },
            "type": "mesh3d"
           }
          ],
          "parcoords": [
           {
            "line": {
             "colorbar": {
              "outlinewidth": 0,
              "ticks": ""
             }
            },
            "type": "parcoords"
           }
          ],
          "pie": [
           {
            "automargin": true,
            "type": "pie"
           }
          ],
          "scatter": [
           {
            "fillpattern": {
             "fillmode": "overlay",
             "size": 10,
             "solidity": 0.2
            },
            "type": "scatter"
           }
          ],
          "scatter3d": [
           {
            "line": {
             "colorbar": {
              "outlinewidth": 0,
              "ticks": ""
             }
            },
            "marker": {
             "colorbar": {
              "outlinewidth": 0,
              "ticks": ""
             }
            },
            "type": "scatter3d"
           }
          ],
          "scattercarpet": [
           {
            "marker": {
             "colorbar": {
              "outlinewidth": 0,
              "ticks": ""
             }
            },
            "type": "scattercarpet"
           }
          ],
          "scattergeo": [
           {
            "marker": {
             "colorbar": {
              "outlinewidth": 0,
              "ticks": ""
             }
            },
            "type": "scattergeo"
           }
          ],
          "scattergl": [
           {
            "marker": {
             "colorbar": {
              "outlinewidth": 0,
              "ticks": ""
             }
            },
            "type": "scattergl"
           }
          ],
          "scattermapbox": [
           {
            "marker": {
             "colorbar": {
              "outlinewidth": 0,
              "ticks": ""
             }
            },
            "type": "scattermapbox"
           }
          ],
          "scatterpolar": [
           {
            "marker": {
             "colorbar": {
              "outlinewidth": 0,
              "ticks": ""
             }
            },
            "type": "scatterpolar"
           }
          ],
          "scatterpolargl": [
           {
            "marker": {
             "colorbar": {
              "outlinewidth": 0,
              "ticks": ""
             }
            },
            "type": "scatterpolargl"
           }
          ],
          "scatterternary": [
           {
            "marker": {
             "colorbar": {
              "outlinewidth": 0,
              "ticks": ""
             }
            },
            "type": "scatterternary"
           }
          ],
          "surface": [
           {
            "colorbar": {
             "outlinewidth": 0,
             "ticks": ""
            },
            "colorscale": [
             [
              0,
              "#0d0887"
             ],
             [
              0.1111111111111111,
              "#46039f"
             ],
             [
              0.2222222222222222,
              "#7201a8"
             ],
             [
              0.3333333333333333,
              "#9c179e"
             ],
             [
              0.4444444444444444,
              "#bd3786"
             ],
             [
              0.5555555555555556,
              "#d8576b"
             ],
             [
              0.6666666666666666,
              "#ed7953"
             ],
             [
              0.7777777777777778,
              "#fb9f3a"
             ],
             [
              0.8888888888888888,
              "#fdca26"
             ],
             [
              1,
              "#f0f921"
             ]
            ],
            "type": "surface"
           }
          ],
          "table": [
           {
            "cells": {
             "fill": {
              "color": "#EBF0F8"
             },
             "line": {
              "color": "white"
             }
            },
            "header": {
             "fill": {
              "color": "#C8D4E3"
             },
             "line": {
              "color": "white"
             }
            },
            "type": "table"
           }
          ]
         },
         "layout": {
          "annotationdefaults": {
           "arrowcolor": "#2a3f5f",
           "arrowhead": 0,
           "arrowwidth": 1
          },
          "autotypenumbers": "strict",
          "coloraxis": {
           "colorbar": {
            "outlinewidth": 0,
            "ticks": ""
           }
          },
          "colorscale": {
           "diverging": [
            [
             0,
             "#8e0152"
            ],
            [
             0.1,
             "#c51b7d"
            ],
            [
             0.2,
             "#de77ae"
            ],
            [
             0.3,
             "#f1b6da"
            ],
            [
             0.4,
             "#fde0ef"
            ],
            [
             0.5,
             "#f7f7f7"
            ],
            [
             0.6,
             "#e6f5d0"
            ],
            [
             0.7,
             "#b8e186"
            ],
            [
             0.8,
             "#7fbc41"
            ],
            [
             0.9,
             "#4d9221"
            ],
            [
             1,
             "#276419"
            ]
           ],
           "sequential": [
            [
             0,
             "#0d0887"
            ],
            [
             0.1111111111111111,
             "#46039f"
            ],
            [
             0.2222222222222222,
             "#7201a8"
            ],
            [
             0.3333333333333333,
             "#9c179e"
            ],
            [
             0.4444444444444444,
             "#bd3786"
            ],
            [
             0.5555555555555556,
             "#d8576b"
            ],
            [
             0.6666666666666666,
             "#ed7953"
            ],
            [
             0.7777777777777778,
             "#fb9f3a"
            ],
            [
             0.8888888888888888,
             "#fdca26"
            ],
            [
             1,
             "#f0f921"
            ]
           ],
           "sequentialminus": [
            [
             0,
             "#0d0887"
            ],
            [
             0.1111111111111111,
             "#46039f"
            ],
            [
             0.2222222222222222,
             "#7201a8"
            ],
            [
             0.3333333333333333,
             "#9c179e"
            ],
            [
             0.4444444444444444,
             "#bd3786"
            ],
            [
             0.5555555555555556,
             "#d8576b"
            ],
            [
             0.6666666666666666,
             "#ed7953"
            ],
            [
             0.7777777777777778,
             "#fb9f3a"
            ],
            [
             0.8888888888888888,
             "#fdca26"
            ],
            [
             1,
             "#f0f921"
            ]
           ]
          },
          "colorway": [
           "#636efa",
           "#EF553B",
           "#00cc96",
           "#ab63fa",
           "#FFA15A",
           "#19d3f3",
           "#FF6692",
           "#B6E880",
           "#FF97FF",
           "#FECB52"
          ],
          "font": {
           "color": "#2a3f5f"
          },
          "geo": {
           "bgcolor": "white",
           "lakecolor": "white",
           "landcolor": "#E5ECF6",
           "showlakes": true,
           "showland": true,
           "subunitcolor": "white"
          },
          "hoverlabel": {
           "align": "left"
          },
          "hovermode": "closest",
          "mapbox": {
           "style": "light"
          },
          "paper_bgcolor": "white",
          "plot_bgcolor": "#E5ECF6",
          "polar": {
           "angularaxis": {
            "gridcolor": "white",
            "linecolor": "white",
            "ticks": ""
           },
           "bgcolor": "#E5ECF6",
           "radialaxis": {
            "gridcolor": "white",
            "linecolor": "white",
            "ticks": ""
           }
          },
          "scene": {
           "xaxis": {
            "backgroundcolor": "#E5ECF6",
            "gridcolor": "white",
            "gridwidth": 2,
            "linecolor": "white",
            "showbackground": true,
            "ticks": "",
            "zerolinecolor": "white"
           },
           "yaxis": {
            "backgroundcolor": "#E5ECF6",
            "gridcolor": "white",
            "gridwidth": 2,
            "linecolor": "white",
            "showbackground": true,
            "ticks": "",
            "zerolinecolor": "white"
           },
           "zaxis": {
            "backgroundcolor": "#E5ECF6",
            "gridcolor": "white",
            "gridwidth": 2,
            "linecolor": "white",
            "showbackground": true,
            "ticks": "",
            "zerolinecolor": "white"
           }
          },
          "shapedefaults": {
           "line": {
            "color": "#2a3f5f"
           }
          },
          "ternary": {
           "aaxis": {
            "gridcolor": "white",
            "linecolor": "white",
            "ticks": ""
           },
           "baxis": {
            "gridcolor": "white",
            "linecolor": "white",
            "ticks": ""
           },
           "bgcolor": "#E5ECF6",
           "caxis": {
            "gridcolor": "white",
            "linecolor": "white",
            "ticks": ""
           }
          },
          "title": {
           "x": 0.05
          },
          "xaxis": {
           "automargin": true,
           "gridcolor": "white",
           "linecolor": "white",
           "ticks": "",
           "title": {
            "standoff": 15
           },
           "zerolinecolor": "white",
           "zerolinewidth": 2
          },
          "yaxis": {
           "automargin": true,
           "gridcolor": "white",
           "linecolor": "white",
           "ticks": "",
           "title": {
            "standoff": 15
           },
           "zerolinecolor": "white",
           "zerolinewidth": 2
          }
         }
        },
        "title": {
         "text": "US Corn production vs. Irish infant mortality rates"
        },
        "xaxis": {
         "anchor": "y",
         "domain": [
          0,
          0.94
         ],
         "title": {
          "text": "Year"
         }
        },
        "yaxis": {
         "anchor": "x",
         "domain": [
          0,
          1
         ],
         "title": {
          "text": "Corn prod (Mil Bushels)"
         }
        },
        "yaxis2": {
         "anchor": "x",
         "overlaying": "y",
         "side": "right",
         "title": {
          "text": "Mortality Rate per 1k"
         }
        }
       }
      },
      "text/html": [
       "<div>                            <div id=\"21047e36-8759-4cab-a2bf-257c371bade9\" class=\"plotly-graph-div\" style=\"height:525px; width:100%;\"></div>            <script type=\"text/javascript\">                require([\"plotly\"], function(Plotly) {                    window.PLOTLYENV=window.PLOTLYENV || {};                                    if (document.getElementById(\"21047e36-8759-4cab-a2bf-257c371bade9\")) {                    Plotly.newPlot(                        \"21047e36-8759-4cab-a2bf-257c371bade9\",                        [{\"mode\":\"lines+markers\",\"name\":\"Production in Million Bushels of Corn\",\"x\":[1950,1951,1952,1953,1954,1955,1956,1957,1958,1959,1960,1961,1962,1963,1964,1965,1966,1967,1968,1969,1970,1971,1972,1973,1974,1975,1976,1977,1978,1979,1980,1981,1982,1983,1984,1985,1986,1987,1988,1989,1990,1991,1992,1993,1994,1995,1996,1997,1998,1999,2000,2001,2002,2003,2004,2005,2006,2007,2008,2009,2010,2011,2012,2013,2014,2015,2016,2017,2018,2019,2020],\"y\":[730.814,793.905,919.59,782.084,1124.775,1141.715,1279.369,1008.326,1058.778,1450.276,1478.173,1515.862,1564.537,1751.984,1706.673,1244.803,1755.272,1652.148,1947.838,2057.807,1782.767,1604.549,2250.632,2294.289,1650.446,2335.804,1897.412,1900.401,1615.016,2534.762,2671.048,2287.628,2351.323,2645.796,2661.978,1715.752,2773.954,2515.093,2686.624,2954.148,3032.91,2613.797,2566.742,2611.157,2852.794,2474.635,2947.842,2272.54,2523.75,2829.044,2425.206,2908.242,2441.249,2341.87,2695.085,2556.924,2229.496,2429.551,1860.112,2382.288,2140.207,2218.189,2260.99,2135.038,1757.297,2229.903,2578.685,2104.725,1146.734,2001.367,1258.673,2349.425,2300.095,2341.602,2206.882,2414.445,2801.819,2668.49,2801.612,2577.449,2916.089,2108.32,3307.038,2946.206,2764.071,2628.937,2980.793,2881.801,2707.913,2872.959,3075.336,3045.355,3356.205,3824.598,3906.949,3597.803,3606.311,4019.238,3484.253,4102.867,4167.608,4860.372,4449.542,4687.057,4152.243,5646.26,5579.832,5670.712,4701.402,5840.757,6289.169,6505.041,7267.927,7928.139,6639.396,8118.65,8235.101,4174.251,7672.13,8875.453,8225.764,7131.3,4928.681,7531.953,7934.028,7474.765,9476.698,6337.73,10050.52,7400.051,9232.557,9206.832,9758.685,9430.612,9915.051,9502.58,8966.787,10087.292,11805.581,11112.187,10531.123,13037.875,12043.203,13067.156,12425.33,12313.956,10755.111,13830.704,14217.292,13601.964,15148.038,14609.407,14321.674,13568.306,14086.699,15017.788,13650.531,15340.52,15142.749],\"type\":\"scatter\",\"xaxis\":\"x\",\"yaxis\":\"y\"},{\"mode\":\"lines+markers\",\"name\":\"Infant Mortality Rate\",\"x\":[1950,1951,1952,1953,1954,1955,1956,1957,1958,1959,1960,1961,1962,1963,1964,1965,1966,1967,1968,1969,1970,1971,1972,1973,1974,1975,1976,1977,1978,1979,1980,1981,1982,1983,1984,1985,1986,1987,1988,1989,1990,1991,1992,1993,1994,1995,1996,1997,1998,1999,2000,2001,2002,2003,2004,2005,2006,2007,2008,2009,2010,2011,2012,2013,2014,2015,2016,2017,2018,2019,2020],\"y\":[17.338,17.862333333333332,16.490000000000002,15.182666666666666,14.607666666666665,13.975,13.567999999999998,12.670333333333332,13.044666666666668,11.997666666666666,10.948666666666668,11.255333333333333,10.887666666666666,9.918666666666669,9.910333333333334,9.250333333333332,9.164666666666667,8.822999999999999,7.802,7.776666666666667,7.360666666666667,6.951666666666666,6.777666666666667,6.700333333333333,6.621999999999999,6.5216666666666665,5.841333333333333,5.849333333333332,5.5953333333333335,4.940666666666667,4.320333333333333,3.925666666666667,3.9946666666666664,3.823,3.4993333333333334,3.304,3.3326666666666664,2.963,3.227333333333333,3.049,3.0776666666666666,2.7933333333333334,2.435,2.2813333333333334,2.166666666666667,2.3103333333333333,2.3640000000000003,2.3363333333333336,2.2046666666666668,2.3066666666666666,2.2749999999999995,2.322666666666667,2.0186666666666664,2.0163333333333333,1.7286666666666666,1.4866666666666666,1.4999999999999998,1.3283333333333334,1.4999999999999998,1.3373333333333335,1.4,1.2873333333333332,1.259,1.3236666666666668,1.2633333333333334,1.2733333333333334,1.1226666666666665,1.107,1.0186666666666666,1.1603333333333332,1.0323333333333333],\"type\":\"scatter\",\"xaxis\":\"x\",\"yaxis\":\"y2\"}],                        {\"template\":{\"data\":{\"histogram2dcontour\":[{\"type\":\"histogram2dcontour\",\"colorbar\":{\"outlinewidth\":0,\"ticks\":\"\"},\"colorscale\":[[0.0,\"#0d0887\"],[0.1111111111111111,\"#46039f\"],[0.2222222222222222,\"#7201a8\"],[0.3333333333333333,\"#9c179e\"],[0.4444444444444444,\"#bd3786\"],[0.5555555555555556,\"#d8576b\"],[0.6666666666666666,\"#ed7953\"],[0.7777777777777778,\"#fb9f3a\"],[0.8888888888888888,\"#fdca26\"],[1.0,\"#f0f921\"]]}],\"choropleth\":[{\"type\":\"choropleth\",\"colorbar\":{\"outlinewidth\":0,\"ticks\":\"\"}}],\"histogram2d\":[{\"type\":\"histogram2d\",\"colorbar\":{\"outlinewidth\":0,\"ticks\":\"\"},\"colorscale\":[[0.0,\"#0d0887\"],[0.1111111111111111,\"#46039f\"],[0.2222222222222222,\"#7201a8\"],[0.3333333333333333,\"#9c179e\"],[0.4444444444444444,\"#bd3786\"],[0.5555555555555556,\"#d8576b\"],[0.6666666666666666,\"#ed7953\"],[0.7777777777777778,\"#fb9f3a\"],[0.8888888888888888,\"#fdca26\"],[1.0,\"#f0f921\"]]}],\"heatmap\":[{\"type\":\"heatmap\",\"colorbar\":{\"outlinewidth\":0,\"ticks\":\"\"},\"colorscale\":[[0.0,\"#0d0887\"],[0.1111111111111111,\"#46039f\"],[0.2222222222222222,\"#7201a8\"],[0.3333333333333333,\"#9c179e\"],[0.4444444444444444,\"#bd3786\"],[0.5555555555555556,\"#d8576b\"],[0.6666666666666666,\"#ed7953\"],[0.7777777777777778,\"#fb9f3a\"],[0.8888888888888888,\"#fdca26\"],[1.0,\"#f0f921\"]]}],\"heatmapgl\":[{\"type\":\"heatmapgl\",\"colorbar\":{\"outlinewidth\":0,\"ticks\":\"\"},\"colorscale\":[[0.0,\"#0d0887\"],[0.1111111111111111,\"#46039f\"],[0.2222222222222222,\"#7201a8\"],[0.3333333333333333,\"#9c179e\"],[0.4444444444444444,\"#bd3786\"],[0.5555555555555556,\"#d8576b\"],[0.6666666666666666,\"#ed7953\"],[0.7777777777777778,\"#fb9f3a\"],[0.8888888888888888,\"#fdca26\"],[1.0,\"#f0f921\"]]}],\"contourcarpet\":[{\"type\":\"contourcarpet\",\"colorbar\":{\"outlinewidth\":0,\"ticks\":\"\"}}],\"contour\":[{\"type\":\"contour\",\"colorbar\":{\"outlinewidth\":0,\"ticks\":\"\"},\"colorscale\":[[0.0,\"#0d0887\"],[0.1111111111111111,\"#46039f\"],[0.2222222222222222,\"#7201a8\"],[0.3333333333333333,\"#9c179e\"],[0.4444444444444444,\"#bd3786\"],[0.5555555555555556,\"#d8576b\"],[0.6666666666666666,\"#ed7953\"],[0.7777777777777778,\"#fb9f3a\"],[0.8888888888888888,\"#fdca26\"],[1.0,\"#f0f921\"]]}],\"surface\":[{\"type\":\"surface\",\"colorbar\":{\"outlinewidth\":0,\"ticks\":\"\"},\"colorscale\":[[0.0,\"#0d0887\"],[0.1111111111111111,\"#46039f\"],[0.2222222222222222,\"#7201a8\"],[0.3333333333333333,\"#9c179e\"],[0.4444444444444444,\"#bd3786\"],[0.5555555555555556,\"#d8576b\"],[0.6666666666666666,\"#ed7953\"],[0.7777777777777778,\"#fb9f3a\"],[0.8888888888888888,\"#fdca26\"],[1.0,\"#f0f921\"]]}],\"mesh3d\":[{\"type\":\"mesh3d\",\"colorbar\":{\"outlinewidth\":0,\"ticks\":\"\"}}],\"scatter\":[{\"fillpattern\":{\"fillmode\":\"overlay\",\"size\":10,\"solidity\":0.2},\"type\":\"scatter\"}],\"parcoords\":[{\"type\":\"parcoords\",\"line\":{\"colorbar\":{\"outlinewidth\":0,\"ticks\":\"\"}}}],\"scatterpolargl\":[{\"type\":\"scatterpolargl\",\"marker\":{\"colorbar\":{\"outlinewidth\":0,\"ticks\":\"\"}}}],\"bar\":[{\"error_x\":{\"color\":\"#2a3f5f\"},\"error_y\":{\"color\":\"#2a3f5f\"},\"marker\":{\"line\":{\"color\":\"#E5ECF6\",\"width\":0.5},\"pattern\":{\"fillmode\":\"overlay\",\"size\":10,\"solidity\":0.2}},\"type\":\"bar\"}],\"scattergeo\":[{\"type\":\"scattergeo\",\"marker\":{\"colorbar\":{\"outlinewidth\":0,\"ticks\":\"\"}}}],\"scatterpolar\":[{\"type\":\"scatterpolar\",\"marker\":{\"colorbar\":{\"outlinewidth\":0,\"ticks\":\"\"}}}],\"histogram\":[{\"marker\":{\"pattern\":{\"fillmode\":\"overlay\",\"size\":10,\"solidity\":0.2}},\"type\":\"histogram\"}],\"scattergl\":[{\"type\":\"scattergl\",\"marker\":{\"colorbar\":{\"outlinewidth\":0,\"ticks\":\"\"}}}],\"scatter3d\":[{\"type\":\"scatter3d\",\"line\":{\"colorbar\":{\"outlinewidth\":0,\"ticks\":\"\"}},\"marker\":{\"colorbar\":{\"outlinewidth\":0,\"ticks\":\"\"}}}],\"scattermapbox\":[{\"type\":\"scattermapbox\",\"marker\":{\"colorbar\":{\"outlinewidth\":0,\"ticks\":\"\"}}}],\"scatterternary\":[{\"type\":\"scatterternary\",\"marker\":{\"colorbar\":{\"outlinewidth\":0,\"ticks\":\"\"}}}],\"scattercarpet\":[{\"type\":\"scattercarpet\",\"marker\":{\"colorbar\":{\"outlinewidth\":0,\"ticks\":\"\"}}}],\"carpet\":[{\"aaxis\":{\"endlinecolor\":\"#2a3f5f\",\"gridcolor\":\"white\",\"linecolor\":\"white\",\"minorgridcolor\":\"white\",\"startlinecolor\":\"#2a3f5f\"},\"baxis\":{\"endlinecolor\":\"#2a3f5f\",\"gridcolor\":\"white\",\"linecolor\":\"white\",\"minorgridcolor\":\"white\",\"startlinecolor\":\"#2a3f5f\"},\"type\":\"carpet\"}],\"table\":[{\"cells\":{\"fill\":{\"color\":\"#EBF0F8\"},\"line\":{\"color\":\"white\"}},\"header\":{\"fill\":{\"color\":\"#C8D4E3\"},\"line\":{\"color\":\"white\"}},\"type\":\"table\"}],\"barpolar\":[{\"marker\":{\"line\":{\"color\":\"#E5ECF6\",\"width\":0.5},\"pattern\":{\"fillmode\":\"overlay\",\"size\":10,\"solidity\":0.2}},\"type\":\"barpolar\"}],\"pie\":[{\"automargin\":true,\"type\":\"pie\"}]},\"layout\":{\"autotypenumbers\":\"strict\",\"colorway\":[\"#636efa\",\"#EF553B\",\"#00cc96\",\"#ab63fa\",\"#FFA15A\",\"#19d3f3\",\"#FF6692\",\"#B6E880\",\"#FF97FF\",\"#FECB52\"],\"font\":{\"color\":\"#2a3f5f\"},\"hovermode\":\"closest\",\"hoverlabel\":{\"align\":\"left\"},\"paper_bgcolor\":\"white\",\"plot_bgcolor\":\"#E5ECF6\",\"polar\":{\"bgcolor\":\"#E5ECF6\",\"angularaxis\":{\"gridcolor\":\"white\",\"linecolor\":\"white\",\"ticks\":\"\"},\"radialaxis\":{\"gridcolor\":\"white\",\"linecolor\":\"white\",\"ticks\":\"\"}},\"ternary\":{\"bgcolor\":\"#E5ECF6\",\"aaxis\":{\"gridcolor\":\"white\",\"linecolor\":\"white\",\"ticks\":\"\"},\"baxis\":{\"gridcolor\":\"white\",\"linecolor\":\"white\",\"ticks\":\"\"},\"caxis\":{\"gridcolor\":\"white\",\"linecolor\":\"white\",\"ticks\":\"\"}},\"coloraxis\":{\"colorbar\":{\"outlinewidth\":0,\"ticks\":\"\"}},\"colorscale\":{\"sequential\":[[0.0,\"#0d0887\"],[0.1111111111111111,\"#46039f\"],[0.2222222222222222,\"#7201a8\"],[0.3333333333333333,\"#9c179e\"],[0.4444444444444444,\"#bd3786\"],[0.5555555555555556,\"#d8576b\"],[0.6666666666666666,\"#ed7953\"],[0.7777777777777778,\"#fb9f3a\"],[0.8888888888888888,\"#fdca26\"],[1.0,\"#f0f921\"]],\"sequentialminus\":[[0.0,\"#0d0887\"],[0.1111111111111111,\"#46039f\"],[0.2222222222222222,\"#7201a8\"],[0.3333333333333333,\"#9c179e\"],[0.4444444444444444,\"#bd3786\"],[0.5555555555555556,\"#d8576b\"],[0.6666666666666666,\"#ed7953\"],[0.7777777777777778,\"#fb9f3a\"],[0.8888888888888888,\"#fdca26\"],[1.0,\"#f0f921\"]],\"diverging\":[[0,\"#8e0152\"],[0.1,\"#c51b7d\"],[0.2,\"#de77ae\"],[0.3,\"#f1b6da\"],[0.4,\"#fde0ef\"],[0.5,\"#f7f7f7\"],[0.6,\"#e6f5d0\"],[0.7,\"#b8e186\"],[0.8,\"#7fbc41\"],[0.9,\"#4d9221\"],[1,\"#276419\"]]},\"xaxis\":{\"gridcolor\":\"white\",\"linecolor\":\"white\",\"ticks\":\"\",\"title\":{\"standoff\":15},\"zerolinecolor\":\"white\",\"automargin\":true,\"zerolinewidth\":2},\"yaxis\":{\"gridcolor\":\"white\",\"linecolor\":\"white\",\"ticks\":\"\",\"title\":{\"standoff\":15},\"zerolinecolor\":\"white\",\"automargin\":true,\"zerolinewidth\":2},\"scene\":{\"xaxis\":{\"backgroundcolor\":\"#E5ECF6\",\"gridcolor\":\"white\",\"linecolor\":\"white\",\"showbackground\":true,\"ticks\":\"\",\"zerolinecolor\":\"white\",\"gridwidth\":2},\"yaxis\":{\"backgroundcolor\":\"#E5ECF6\",\"gridcolor\":\"white\",\"linecolor\":\"white\",\"showbackground\":true,\"ticks\":\"\",\"zerolinecolor\":\"white\",\"gridwidth\":2},\"zaxis\":{\"backgroundcolor\":\"#E5ECF6\",\"gridcolor\":\"white\",\"linecolor\":\"white\",\"showbackground\":true,\"ticks\":\"\",\"zerolinecolor\":\"white\",\"gridwidth\":2}},\"shapedefaults\":{\"line\":{\"color\":\"#2a3f5f\"}},\"annotationdefaults\":{\"arrowcolor\":\"#2a3f5f\",\"arrowhead\":0,\"arrowwidth\":1},\"geo\":{\"bgcolor\":\"white\",\"landcolor\":\"#E5ECF6\",\"subunitcolor\":\"white\",\"showland\":true,\"showlakes\":true,\"lakecolor\":\"white\"},\"title\":{\"x\":0.05},\"mapbox\":{\"style\":\"light\"}}},\"xaxis\":{\"anchor\":\"y\",\"domain\":[0.0,0.94],\"title\":{\"text\":\"Year\"}},\"yaxis\":{\"anchor\":\"x\",\"domain\":[0.0,1.0],\"title\":{\"text\":\"Corn prod (Mil Bushels)\"}},\"yaxis2\":{\"anchor\":\"x\",\"overlaying\":\"y\",\"side\":\"right\",\"title\":{\"text\":\"Mortality Rate per 1k\"}},\"title\":{\"text\":\"US Corn production vs. Irish infant mortality rates\"},\"legend\":{\"title\":{\"text\":\"Series\"}}},                        {\"responsive\": true}                    ).then(function(){\n",
       "                            \n",
       "var gd = document.getElementById('21047e36-8759-4cab-a2bf-257c371bade9');\n",
       "var x = new MutationObserver(function (mutations, observer) {{\n",
       "        var display = window.getComputedStyle(gd).display;\n",
       "        if (!display || display === 'none') {{\n",
       "            console.log([gd, 'removed!']);\n",
       "            Plotly.purge(gd);\n",
       "            observer.disconnect();\n",
       "        }}\n",
       "}});\n",
       "\n",
       "// Listen for the removal of the full notebook cells\n",
       "var notebookContainer = gd.closest('#notebook-container');\n",
       "if (notebookContainer) {{\n",
       "    x.observe(notebookContainer, {childList: true});\n",
       "}}\n",
       "\n",
       "// Listen for the clearing of the current output cell\n",
       "var outputEl = gd.closest('.output');\n",
       "if (outputEl) {{\n",
       "    x.observe(outputEl, {childList: true});\n",
       "}}\n",
       "\n",
       "                        })                };                });            </script>        </div>"
      ]
     },
     "metadata": {},
     "output_type": "display_data"
    }
   ],
   "source": [
    "import plotly.express as px\n",
    "import plotly.graph_objects as go\n",
    "from plotly.subplots import make_subplots\n",
    "\n",
    "fig = make_subplots(specs=[[{'secondary_y': True}]])\n",
    "\n",
    "\n",
    "#Using infant_mort_grouped index as x axis\n",
    "#This unfortunately cuts out corn data, but restrains the graphs to \n",
    "fig.add_trace(\n",
    "    go.Scatter(x=infant_mort_grouped.index, y=corn['Mil_Bushels_Corn'], name = 'Production in Million Bushels of Corn', mode = 'lines+markers'),\n",
    "    secondary_y = False\n",
    ")\n",
    "\n",
    "fig.add_trace(\n",
    "    go.Scatter(x=infant_mort_grouped.index, y=infant_mort_grouped['total'], name = 'Infant Mortality Rate', mode = 'lines+markers'),\n",
    "    secondary_y = True\n",
    ")\n",
    "\n",
    "fig.update_layout(\n",
    "    title =  'US Corn production vs. Irish infant mortality rates',\n",
    "    xaxis_title=\"Year\",\n",
    "    yaxis_title = 'Corn prod (Mil Bushels)',\n",
    "    yaxis2=dict(title=\"Mortality Rate per 1k\", overlaying=\"y\", side=\"right\"),\n",
    "    legend_title=\"Series\"\n",
    ")\n",
    "\n",
    "fig.show()"
   ]
  },
  {
   "cell_type": "markdown",
   "id": "93865f17-d039-45e8-b2d6-da3c699e6764",
   "metadata": {},
   "source": [
    "While it may be tempting to state that infant mortality in Ireland decreases because of increasing US corn production, we cannot make that conclusion.\n",
    "There generally seems to be a negative correlation between the two variables of interest, but this does not necessarily mean causation.\n",
    "Furthermore, infant mortality rate does not seem responsive to the large decreases in corn production, such as in 1985 or nearing 2020."
   ]
  }
 ],
 "metadata": {
  "kernelspec": {
   "display_name": "base",
   "language": "python",
   "name": "python3"
  },
  "language_info": {
   "codemirror_mode": {
    "name": "ipython",
    "version": 3
   },
   "file_extension": ".py",
   "mimetype": "text/x-python",
   "name": "python",
   "nbconvert_exporter": "python",
   "pygments_lexer": "ipython3",
   "version": "3.12.3"
  }
 },
 "nbformat": 4,
 "nbformat_minor": 5
}
