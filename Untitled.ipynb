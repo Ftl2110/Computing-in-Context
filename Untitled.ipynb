{
 "cells": [
  {
   "cell_type": "markdown",
   "id": "35b1252c-809d-4a82-9054-020586c5a157",
   "metadata": {},
   "source": [
    "[Google](google.com)"
   ]
  },
  {
   "cell_type": "code",
   "execution_count": null,
   "id": "ee3647fa-996b-4bca-92ad-4f74defc7ba6",
   "metadata": {},
   "outputs": [],
   "source": []
  }
 ],
 "metadata": {
  "kernelspec": {
   "display_name": "Python 3 (ipykernel)",
   "language": "python",
   "name": "python3"
  },
  "language_info": {
   "codemirror_mode": {
    "name": "ipython",
    "version": 3
   },
   "file_extension": ".py",
   "mimetype": "text/x-python",
   "name": "python",
   "nbconvert_exporter": "python",
   "pygments_lexer": "ipython3",
   "version": "3.12.4"
  }
 },
 "nbformat": 4,
 "nbformat_minor": 5
}
